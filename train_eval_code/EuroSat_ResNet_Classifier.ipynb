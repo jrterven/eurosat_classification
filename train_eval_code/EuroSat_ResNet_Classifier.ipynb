{
 "cells": [
  {
   "cell_type": "markdown",
   "metadata": {},
   "source": [
    "# EuroSat Image Classification using ResNet\n",
    "\n",
    "Hector Becerra  \n",
    "Juan Terven  \n",
    "2023\n",
    "\n",
    "**ResNet**, short for Residual Network, is a groundbreaking convolutional neural network (CNN) architecture that revolutionized deep learning in computer vision. Introduced by Kaiming He, Xiangyu Zhang, Shaoqing Ren, and Jian Sun in 2015, it won the ImageNet Large Scale Visual Recognition Challenge (ILSVRC) that year. ResNet's defining feature is its use of *residual blocks*, which incorporate shortcut connections (or \"skip connections\") that allow the input of a layer to be added to its output, thereby addressing the vanishing gradient problem and enabling the training of networks with unprecedented depths, up to hundreds or even thousands of layers. This design significantly improved the accuracy of image recognition tasks and has influenced a wide range of subsequent neural network architectures, solidifying ResNet as a foundational model in deep learning."
   ]
  },
  {
   "cell_type": "code",
   "execution_count": 1,
   "metadata": {
    "id": "Njg0Ea6di-W1"
   },
   "outputs": [],
   "source": [
    "import os\n",
    "import numpy as np \n",
    "import torch\n",
    "import torchvision.transforms as transforms\n",
    "import torch.nn as nn\n",
    "from sklearn.metrics import classification_report\n",
    "import matplotlib.pyplot as plt\n",
    "import seaborn as sns\n",
    "import pandas as pd\n",
    "import wandb\n",
    "from torch.utils.data import DataLoader\n",
    "import json\n",
    "from torchvision.models import resnet50,ResNet50_Weights\n",
    "\n",
    "from train_utils import get_predictions,compute_val_loss,EarlyStopping,train_model\n",
    "from eval_utils import remove_wandb_hooks,evaluate_test_set,precision_recall_analysis\n",
    "from EuroSAT import EurosatDataset,visualize_classes\n"
   ]
  },
  {
   "cell_type": "code",
   "execution_count": 2,
   "metadata": {
    "id": "NuG-lb5l27P7"
   },
   "outputs": [
    {
     "name": "stdout",
     "output_type": "stream",
     "text": [
      "Found GPU\n",
      "Pytorch version: 1.12.1+cu116\n"
     ]
    }
   ],
   "source": [
    "if torch.cuda.is_available():\n",
    "    DEVICE = torch.device(\"cuda:0\")  \n",
    "    print(\"Found GPU\")\n",
    "else:\n",
    "    torch.device(\"cpu\")\n",
    "    \n",
    "print(\"Pytorch version:\", torch.__version__)"
   ]
  },
  {
   "cell_type": "markdown",
   "metadata": {},
   "source": [
    "## Login to Wandb to log experiment"
   ]
  },
  {
   "cell_type": "code",
   "execution_count": 4,
   "metadata": {},
   "outputs": [
    {
     "name": "stderr",
     "output_type": "stream",
     "text": [
      "\u001b[34m\u001b[1mwandb\u001b[0m: Currently logged in as: \u001b[33mjrterven\u001b[0m. Use \u001b[1m`wandb login --relogin`\u001b[0m to force relogin\n"
     ]
    },
    {
     "data": {
      "text/plain": [
       "True"
      ]
     },
     "execution_count": 4,
     "metadata": {},
     "output_type": "execute_result"
    }
   ],
   "source": [
    "os.environ['WANDB_NOTEBOOK_NAME'] = 'EuroSat_ResNet_Classifier.ipynb'\n",
    "\n",
    "wandb.login()"
   ]
  },
  {
   "cell_type": "markdown",
   "metadata": {},
   "source": [
    "# Data\n",
    "The [EuroSat Dataset](https://ieeexplore.ieee.org/stamp/stamp.jsp?arnumber=8736785) consists of 27,000 labeled images with ten different land use and land cover classes. It is multi-spectral, covering 13 spectral bands in the visible, near infrared, and short wave infrared parts of the spectrum. The dataset is geo-referenced and based on openly and freely accessible earth observation data. The classes are the following.\n",
    "\n",
    "| No. | Land Use Type           |\n",
    "|-----|-------------------------|\n",
    "| 1   | AnnualCrop              |\n",
    "| 2   | Forest                  |\n",
    "| 3   | HerbaceousVegatation    |\n",
    "| 4   | Highway                 |\n",
    "| 5   | Industrial              |\n",
    "| 6   | Pasture                 |\n",
    "| 7   | PermanentCrop           |\n",
    "| 8   | Residential             |\n",
    "| 9   | River                   |\n",
    "| 10  | SeaLake                 |"
   ]
  },
  {
   "cell_type": "code",
   "execution_count": 3,
   "metadata": {},
   "outputs": [],
   "source": [
    "data_path = \"/datasets/eurosat/EuroSAT/\""
   ]
  },
  {
   "cell_type": "code",
   "execution_count": 4,
   "metadata": {
    "id": "RDX4GARR0O7E"
   },
   "outputs": [],
   "source": [
    "# Load the labels \n",
    "f = open(f\"{data_path}label_map.json\", \"r\")\n",
    "label_to_index = json.load(f)"
   ]
  },
  {
   "cell_type": "code",
   "execution_count": 5,
   "metadata": {
    "id": "imhDO4Yn1zel"
   },
   "outputs": [
    {
     "name": "stdout",
     "output_type": "stream",
     "text": [
      "{0: 'AnnualCrop', 1: 'Forest', 2: 'HerbaceousVegetation', 3: 'Highway', 4: 'Industrial', 5: 'Pasture', 6: 'PermanentCrop', 7: 'Residential', 8: 'River', 9: 'SeaLake'}\n"
     ]
    }
   ],
   "source": [
    "index_to_label = {label_to_index[k]:k for k in label_to_index}\n",
    "print(index_to_label)"
   ]
  },
  {
   "cell_type": "markdown",
   "metadata": {},
   "source": [
    "## Data Transformations"
   ]
  },
  {
   "cell_type": "code",
   "execution_count": 6,
   "metadata": {
    "id": "km80pvtIv6oo"
   },
   "outputs": [],
   "source": [
    "# Define a sequence of transformations to be applied to images\n",
    "transformToTensor = transforms.Compose([\n",
    "    # Resize the image to have a minimum size of 64 pixels along the shortest dimension,\n",
    "    # preserving the aspect ratio of the original image.\n",
    "    transforms.Resize((64,)),\n",
    "\n",
    "    # Crop the image at the center to get a 64x64 square.\n",
    "    transforms.CenterCrop((64, 64)),\n",
    "\n",
    "    # Convert the image to a PyTorch tensor.\n",
    "    transforms.ToTensor(),\n",
    "\n",
    "    # Normalize the tensor image with mean and standard deviation for each color channel.\n",
    "    # These specific values are generally used for pre-trained models.\n",
    "    transforms.Normalize(mean=[0.485, 0.456, 0.406], std=[0.229, 0.224, 0.225])\n",
    "])"
   ]
  },
  {
   "cell_type": "code",
   "execution_count": 7,
   "metadata": {
    "id": "OFa7AT6F1APb"
   },
   "outputs": [],
   "source": [
    "# Create dataset instances\n",
    "# Instantiate the EurosatDataset class for training data.\n",
    "train_dataset = EurosatDataset(_type='train', transform=transformToTensor,\n",
    "                               data_path=data_path)\n",
    "\n",
    "# Instantiate the EurosatDataset class for validation data.\n",
    "valid_dataset = EurosatDataset(_type=\"valid\", transform=transformToTensor,\n",
    "                               data_path=data_path)\n",
    "\n",
    "# Instantiate the EurosatDataset class for testing data.\n",
    "test_dataset = EurosatDataset(_type=\"test\", transform=transformToTensor,\n",
    "                              data_path=data_path)\n",
    "\n",
    "# Define batch sizes for training and validation data.\n",
    "train_batch = 64  # The batch size for training data.\n",
    "val_batch = 16     # The batch size for validation data.\n",
    "\n",
    "# Create DataLoaders\n",
    "# Create a DataLoader for the training dataset. This DataLoader will automatically\n",
    "# group the training data into batches of size 128 and shuffle them in each epoch.\n",
    "train_loader = DataLoader(train_dataset, batch_size=train_batch, shuffle=True)\n",
    "\n",
    "# Create a DataLoader for the validation dataset. This DataLoader groups the validation\n",
    "# data into batches of size 32. The data is not shuffled, which is typical for validation data.\n",
    "valid_loader = DataLoader(valid_dataset, batch_size=val_batch, shuffle=False)\n",
    "\n",
    "# Create a DataLoader for the testing dataset. This DataLoader processes the test data\n",
    "# one sample at a time (batch size of 1) and does not shuffle the data. This is typical\n",
    "# for test data since we often want to evaluate the model on test data in a specific order.\n",
    "test_loader = DataLoader(test_dataset, batch_size=1, shuffle=False)\n"
   ]
  },
  {
   "cell_type": "code",
   "execution_count": 8,
   "metadata": {},
   "outputs": [
    {
     "name": "stderr",
     "output_type": "stream",
     "text": [
      "Clipping input data to the valid range for imshow with RGB data ([0..1] for floats or [0..255] for integers).\n",
      "Clipping input data to the valid range for imshow with RGB data ([0..1] for floats or [0..255] for integers).\n",
      "Clipping input data to the valid range for imshow with RGB data ([0..1] for floats or [0..255] for integers).\n",
      "Clipping input data to the valid range for imshow with RGB data ([0..1] for floats or [0..255] for integers).\n",
      "Clipping input data to the valid range for imshow with RGB data ([0..1] for floats or [0..255] for integers).\n",
      "Clipping input data to the valid range for imshow with RGB data ([0..1] for floats or [0..255] for integers).\n",
      "Clipping input data to the valid range for imshow with RGB data ([0..1] for floats or [0..255] for integers).\n",
      "Clipping input data to the valid range for imshow with RGB data ([0..1] for floats or [0..255] for integers).\n",
      "Clipping input data to the valid range for imshow with RGB data ([0..1] for floats or [0..255] for integers).\n",
      "Clipping input data to the valid range for imshow with RGB data ([0..1] for floats or [0..255] for integers).\n"
     ]
    },
    {
     "data": {
      "image/png": "[encoded data removed]",
      "text/plain": [
       "<Figure size 720x360 with 10 Axes>"
      ]
     },
     "metadata": {
      "needs_background": "light"
     },
     "output_type": "display_data"
    }
   ],
   "source": [
    "visualize_classes(train_loader, index_to_label)"
   ]
  },
  {
   "cell_type": "code",
   "execution_count": 9,
   "metadata": {
    "id": "KcxIeBao2NbZ"
   },
   "outputs": [
    {
     "name": "stdout",
     "output_type": "stream",
     "text": [
      "Train set batches: 296\n",
      "Validation set batches: 338\n",
      "Test set examples: 2700\n"
     ]
    }
   ],
   "source": [
    "dataset_managers = {\n",
    "    'valid': valid_loader,\n",
    "    'train': train_loader,\n",
    "    'test': test_loader\n",
    "}\n",
    "\n",
    "print(f\"Train set batches: {len(train_loader)}\")\n",
    "print(f\"Validation set batches: {len(valid_loader)}\")\n",
    "print(f\"Test set examples: {len(test_loader)}\")"
   ]
  },
  {
   "cell_type": "markdown",
   "metadata": {},
   "source": [
    "## Labels distribution"
   ]
  },
  {
   "cell_type": "code",
   "execution_count": 10,
   "metadata": {},
   "outputs": [
    {
     "data": {
      "image/png": "[encoded data removed]",
      "text/plain": [
       "<Figure size 864x432 with 1 Axes>"
      ]
     },
     "metadata": {},
     "output_type": "display_data"
    }
   ],
   "source": [
    "labels = train_dataset.data['Label'].values  # Assuming 'Label' is the column with labels\n",
    "\n",
    "# Convert numerical labels to string names if necessary\n",
    "label_names = [index_to_label[label] for label in labels]\n",
    "\n",
    "sns.set(style=\"whitegrid\")  # Set style\n",
    "plt.figure(figsize=(12, 6))\n",
    "\n",
    "# Adjusted according to the new API\n",
    "ax = sns.countplot(x=label_names, hue=label_names, palette=\"viridis\", legend=False)\n",
    "\n",
    "#plt.xlabel('Class', fontsize=12)\n",
    "plt.ylabel('Number of images', fontsize=12)\n",
    "plt.title('Distribution of Classes in the Training Set', fontsize=16)\n",
    "plt.xticks(rotation=45, fontsize=10)\n",
    "\n",
    "# Add the count above the bars\n",
    "for p in ax.patches:\n",
    "    ax.annotate(f'{int(p.get_height())}', (p.get_x() + p.get_width() / 2., p.get_height()),\n",
    "                ha='center', va='center', fontsize=10, color='black', xytext=(0, 5),\n",
    "                textcoords='offset points')\n",
    "\n",
    "plt.tight_layout()  # Adjust layout to prevent clipping\n",
    "plt.show()\n",
    "\n"
   ]
  },
  {
   "cell_type": "markdown",
   "metadata": {},
   "source": [
    "# Model"
   ]
  },
  {
   "cell_type": "code",
   "execution_count": 11,
   "metadata": {
    "colab": {
     "base_uri": "https://localhost:8080/"
    },
    "id": "IWVHa3eSZEGK",
    "outputId": "1bf90d57-aab0-4bde-9544-0ddba555fa7f"
   },
   "outputs": [
    {
     "data": {
      "text/plain": [
       "ResNet(\n",
       "  (conv1): Conv2d(3, 64, kernel_size=(7, 7), stride=(2, 2), padding=(3, 3), bias=False)\n",
       "  (bn1): BatchNorm2d(64, eps=1e-05, momentum=0.1, affine=True, track_running_stats=True)\n",
       "  (relu): ReLU(inplace=True)\n",
       "  (maxpool): MaxPool2d(kernel_size=3, stride=2, padding=1, dilation=1, ceil_mode=False)\n",
       "  (layer1): Sequential(\n",
       "    (0): Bottleneck(\n",
       "      (conv1): Conv2d(64, 64, kernel_size=(1, 1), stride=(1, 1), bias=False)\n",
       "      (bn1): BatchNorm2d(64, eps=1e-05, momentum=0.1, affine=True, track_running_stats=True)\n",
       "      (conv2): Conv2d(64, 64, kernel_size=(3, 3), stride=(1, 1), padding=(1, 1), bias=False)\n",
       "      (bn2): BatchNorm2d(64, eps=1e-05, momentum=0.1, affine=True, track_running_stats=True)\n",
       "      (conv3): Conv2d(64, 256, kernel_size=(1, 1), stride=(1, 1), bias=False)\n",
       "      (bn3): BatchNorm2d(256, eps=1e-05, momentum=0.1, affine=True, track_running_stats=True)\n",
       "      (relu): ReLU(inplace=True)\n",
       "      (downsample): Sequential(\n",
       "        (0): Conv2d(64, 256, kernel_size=(1, 1), stride=(1, 1), bias=False)\n",
       "        (1): BatchNorm2d(256, eps=1e-05, momentum=0.1, affine=True, track_running_stats=True)\n",
       "      )\n",
       "    )\n",
       "    (1): Bottleneck(\n",
       "      (conv1): Conv2d(256, 64, kernel_size=(1, 1), stride=(1, 1), bias=False)\n",
       "      (bn1): BatchNorm2d(64, eps=1e-05, momentum=0.1, affine=True, track_running_stats=True)\n",
       "      (conv2): Conv2d(64, 64, kernel_size=(3, 3), stride=(1, 1), padding=(1, 1), bias=False)\n",
       "      (bn2): BatchNorm2d(64, eps=1e-05, momentum=0.1, affine=True, track_running_stats=True)\n",
       "      (conv3): Conv2d(64, 256, kernel_size=(1, 1), stride=(1, 1), bias=False)\n",
       "      (bn3): BatchNorm2d(256, eps=1e-05, momentum=0.1, affine=True, track_running_stats=True)\n",
       "      (relu): ReLU(inplace=True)\n",
       "    )\n",
       "    (2): Bottleneck(\n",
       "      (conv1): Conv2d(256, 64, kernel_size=(1, 1), stride=(1, 1), bias=False)\n",
       "      (bn1): BatchNorm2d(64, eps=1e-05, momentum=0.1, affine=True, track_running_stats=True)\n",
       "      (conv2): Conv2d(64, 64, kernel_size=(3, 3), stride=(1, 1), padding=(1, 1), bias=False)\n",
       "      (bn2): BatchNorm2d(64, eps=1e-05, momentum=0.1, affine=True, track_running_stats=True)\n",
       "      (conv3): Conv2d(64, 256, kernel_size=(1, 1), stride=(1, 1), bias=False)\n",
       "      (bn3): BatchNorm2d(256, eps=1e-05, momentum=0.1, affine=True, track_running_stats=True)\n",
       "      (relu): ReLU(inplace=True)\n",
       "    )\n",
       "  )\n",
       "  (layer2): Sequential(\n",
       "    (0): Bottleneck(\n",
       "      (conv1): Conv2d(256, 128, kernel_size=(1, 1), stride=(1, 1), bias=False)\n",
       "      (bn1): BatchNorm2d(128, eps=1e-05, momentum=0.1, affine=True, track_running_stats=True)\n",
       "      (conv2): Conv2d(128, 128, kernel_size=(3, 3), stride=(2, 2), padding=(1, 1), bias=False)\n",
       "      (bn2): BatchNorm2d(128, eps=1e-05, momentum=0.1, affine=True, track_running_stats=True)\n",
       "      (conv3): Conv2d(128, 512, kernel_size=(1, 1), stride=(1, 1), bias=False)\n",
       "      (bn3): BatchNorm2d(512, eps=1e-05, momentum=0.1, affine=True, track_running_stats=True)\n",
       "      (relu): ReLU(inplace=True)\n",
       "      (downsample): Sequential(\n",
       "        (0): Conv2d(256, 512, kernel_size=(1, 1), stride=(2, 2), bias=False)\n",
       "        (1): BatchNorm2d(512, eps=1e-05, momentum=0.1, affine=True, track_running_stats=True)\n",
       "      )\n",
       "    )\n",
       "    (1): Bottleneck(\n",
       "      (conv1): Conv2d(512, 128, kernel_size=(1, 1), stride=(1, 1), bias=False)\n",
       "      (bn1): BatchNorm2d(128, eps=1e-05, momentum=0.1, affine=True, track_running_stats=True)\n",
       "      (conv2): Conv2d(128, 128, kernel_size=(3, 3), stride=(1, 1), padding=(1, 1), bias=False)\n",
       "      (bn2): BatchNorm2d(128, eps=1e-05, momentum=0.1, affine=True, track_running_stats=True)\n",
       "      (conv3): Conv2d(128, 512, kernel_size=(1, 1), stride=(1, 1), bias=False)\n",
       "      (bn3): BatchNorm2d(512, eps=1e-05, momentum=0.1, affine=True, track_running_stats=True)\n",
       "      (relu): ReLU(inplace=True)\n",
       "    )\n",
       "    (2): Bottleneck(\n",
       "      (conv1): Conv2d(512, 128, kernel_size=(1, 1), stride=(1, 1), bias=False)\n",
       "      (bn1): BatchNorm2d(128, eps=1e-05, momentum=0.1, affine=True, track_running_stats=True)\n",
       "      (conv2): Conv2d(128, 128, kernel_size=(3, 3), stride=(1, 1), padding=(1, 1), bias=False)\n",
       "      (bn2): BatchNorm2d(128, eps=1e-05, momentum=0.1, affine=True, track_running_stats=True)\n",
       "      (conv3): Conv2d(128, 512, kernel_size=(1, 1), stride=(1, 1), bias=False)\n",
       "      (bn3): BatchNorm2d(512, eps=1e-05, momentum=0.1, affine=True, track_running_stats=True)\n",
       "      (relu): ReLU(inplace=True)\n",
       "    )\n",
       "    (3): Bottleneck(\n",
       "      (conv1): Conv2d(512, 128, kernel_size=(1, 1), stride=(1, 1), bias=False)\n",
       "      (bn1): BatchNorm2d(128, eps=1e-05, momentum=0.1, affine=True, track_running_stats=True)\n",
       "      (conv2): Conv2d(128, 128, kernel_size=(3, 3), stride=(1, 1), padding=(1, 1), bias=False)\n",
       "      (bn2): BatchNorm2d(128, eps=1e-05, momentum=0.1, affine=True, track_running_stats=True)\n",
       "      (conv3): Conv2d(128, 512, kernel_size=(1, 1), stride=(1, 1), bias=False)\n",
       "      (bn3): BatchNorm2d(512, eps=1e-05, momentum=0.1, affine=True, track_running_stats=True)\n",
       "      (relu): ReLU(inplace=True)\n",
       "    )\n",
       "  )\n",
       "  (layer3): Sequential(\n",
       "    (0): Bottleneck(\n",
       "      (conv1): Conv2d(512, 256, kernel_size=(1, 1), stride=(1, 1), bias=False)\n",
       "      (bn1): BatchNorm2d(256, eps=1e-05, momentum=0.1, affine=True, track_running_stats=True)\n",
       "      (conv2): Conv2d(256, 256, kernel_size=(3, 3), stride=(2, 2), padding=(1, 1), bias=False)\n",
       "      (bn2): BatchNorm2d(256, eps=1e-05, momentum=0.1, affine=True, track_running_stats=True)\n",
       "      (conv3): Conv2d(256, 1024, kernel_size=(1, 1), stride=(1, 1), bias=False)\n",
       "      (bn3): BatchNorm2d(1024, eps=1e-05, momentum=0.1, affine=True, track_running_stats=True)\n",
       "      (relu): ReLU(inplace=True)\n",
       "      (downsample): Sequential(\n",
       "        (0): Conv2d(512, 1024, kernel_size=(1, 1), stride=(2, 2), bias=False)\n",
       "        (1): BatchNorm2d(1024, eps=1e-05, momentum=0.1, affine=True, track_running_stats=True)\n",
       "      )\n",
       "    )\n",
       "    (1): Bottleneck(\n",
       "      (conv1): Conv2d(1024, 256, kernel_size=(1, 1), stride=(1, 1), bias=False)\n",
       "      (bn1): BatchNorm2d(256, eps=1e-05, momentum=0.1, affine=True, track_running_stats=True)\n",
       "      (conv2): Conv2d(256, 256, kernel_size=(3, 3), stride=(1, 1), padding=(1, 1), bias=False)\n",
       "      (bn2): BatchNorm2d(256, eps=1e-05, momentum=0.1, affine=True, track_running_stats=True)\n",
       "      (conv3): Conv2d(256, 1024, kernel_size=(1, 1), stride=(1, 1), bias=False)\n",
       "      (bn3): BatchNorm2d(1024, eps=1e-05, momentum=0.1, affine=True, track_running_stats=True)\n",
       "      (relu): ReLU(inplace=True)\n",
       "    )\n",
       "    (2): Bottleneck(\n",
       "      (conv1): Conv2d(1024, 256, kernel_size=(1, 1), stride=(1, 1), bias=False)\n",
       "      (bn1): BatchNorm2d(256, eps=1e-05, momentum=0.1, affine=True, track_running_stats=True)\n",
       "      (conv2): Conv2d(256, 256, kernel_size=(3, 3), stride=(1, 1), padding=(1, 1), bias=False)\n",
       "      (bn2): BatchNorm2d(256, eps=1e-05, momentum=0.1, affine=True, track_running_stats=True)\n",
       "      (conv3): Conv2d(256, 1024, kernel_size=(1, 1), stride=(1, 1), bias=False)\n",
       "      (bn3): BatchNorm2d(1024, eps=1e-05, momentum=0.1, affine=True, track_running_stats=True)\n",
       "      (relu): ReLU(inplace=True)\n",
       "    )\n",
       "    (3): Bottleneck(\n",
       "      (conv1): Conv2d(1024, 256, kernel_size=(1, 1), stride=(1, 1), bias=False)\n",
       "      (bn1): BatchNorm2d(256, eps=1e-05, momentum=0.1, affine=True, track_running_stats=True)\n",
       "      (conv2): Conv2d(256, 256, kernel_size=(3, 3), stride=(1, 1), padding=(1, 1), bias=False)\n",
       "      (bn2): BatchNorm2d(256, eps=1e-05, momentum=0.1, affine=True, track_running_stats=True)\n",
       "      (conv3): Conv2d(256, 1024, kernel_size=(1, 1), stride=(1, 1), bias=False)\n",
       "      (bn3): BatchNorm2d(1024, eps=1e-05, momentum=0.1, affine=True, track_running_stats=True)\n",
       "      (relu): ReLU(inplace=True)\n",
       "    )\n",
       "    (4): Bottleneck(\n",
       "      (conv1): Conv2d(1024, 256, kernel_size=(1, 1), stride=(1, 1), bias=False)\n",
       "      (bn1): BatchNorm2d(256, eps=1e-05, momentum=0.1, affine=True, track_running_stats=True)\n",
       "      (conv2): Conv2d(256, 256, kernel_size=(3, 3), stride=(1, 1), padding=(1, 1), bias=False)\n",
       "      (bn2): BatchNorm2d(256, eps=1e-05, momentum=0.1, affine=True, track_running_stats=True)\n",
       "      (conv3): Conv2d(256, 1024, kernel_size=(1, 1), stride=(1, 1), bias=False)\n",
       "      (bn3): BatchNorm2d(1024, eps=1e-05, momentum=0.1, affine=True, track_running_stats=True)\n",
       "      (relu): ReLU(inplace=True)\n",
       "    )\n",
       "    (5): Bottleneck(\n",
       "      (conv1): Conv2d(1024, 256, kernel_size=(1, 1), stride=(1, 1), bias=False)\n",
       "      (bn1): BatchNorm2d(256, eps=1e-05, momentum=0.1, affine=True, track_running_stats=True)\n",
       "      (conv2): Conv2d(256, 256, kernel_size=(3, 3), stride=(1, 1), padding=(1, 1), bias=False)\n",
       "      (bn2): BatchNorm2d(256, eps=1e-05, momentum=0.1, affine=True, track_running_stats=True)\n",
       "      (conv3): Conv2d(256, 1024, kernel_size=(1, 1), stride=(1, 1), bias=False)\n",
       "      (bn3): BatchNorm2d(1024, eps=1e-05, momentum=0.1, affine=True, track_running_stats=True)\n",
       "      (relu): ReLU(inplace=True)\n",
       "    )\n",
       "  )\n",
       "  (layer4): Sequential(\n",
       "    (0): Bottleneck(\n",
       "      (conv1): Conv2d(1024, 512, kernel_size=(1, 1), stride=(1, 1), bias=False)\n",
       "      (bn1): BatchNorm2d(512, eps=1e-05, momentum=0.1, affine=True, track_running_stats=True)\n",
       "      (conv2): Conv2d(512, 512, kernel_size=(3, 3), stride=(2, 2), padding=(1, 1), bias=False)\n",
       "      (bn2): BatchNorm2d(512, eps=1e-05, momentum=0.1, affine=True, track_running_stats=True)\n",
       "      (conv3): Conv2d(512, 2048, kernel_size=(1, 1), stride=(1, 1), bias=False)\n",
       "      (bn3): BatchNorm2d(2048, eps=1e-05, momentum=0.1, affine=True, track_running_stats=True)\n",
       "      (relu): ReLU(inplace=True)\n",
       "      (downsample): Sequential(\n",
       "        (0): Conv2d(1024, 2048, kernel_size=(1, 1), stride=(2, 2), bias=False)\n",
       "        (1): BatchNorm2d(2048, eps=1e-05, momentum=0.1, affine=True, track_running_stats=True)\n",
       "      )\n",
       "    )\n",
       "    (1): Bottleneck(\n",
       "      (conv1): Conv2d(2048, 512, kernel_size=(1, 1), stride=(1, 1), bias=False)\n",
       "      (bn1): BatchNorm2d(512, eps=1e-05, momentum=0.1, affine=True, track_running_stats=True)\n",
       "      (conv2): Conv2d(512, 512, kernel_size=(3, 3), stride=(1, 1), padding=(1, 1), bias=False)\n",
       "      (bn2): BatchNorm2d(512, eps=1e-05, momentum=0.1, affine=True, track_running_stats=True)\n",
       "      (conv3): Conv2d(512, 2048, kernel_size=(1, 1), stride=(1, 1), bias=False)\n",
       "      (bn3): BatchNorm2d(2048, eps=1e-05, momentum=0.1, affine=True, track_running_stats=True)\n",
       "      (relu): ReLU(inplace=True)\n",
       "    )\n",
       "    (2): Bottleneck(\n",
       "      (conv1): Conv2d(2048, 512, kernel_size=(1, 1), stride=(1, 1), bias=False)\n",
       "      (bn1): BatchNorm2d(512, eps=1e-05, momentum=0.1, affine=True, track_running_stats=True)\n",
       "      (conv2): Conv2d(512, 512, kernel_size=(3, 3), stride=(1, 1), padding=(1, 1), bias=False)\n",
       "      (bn2): BatchNorm2d(512, eps=1e-05, momentum=0.1, affine=True, track_running_stats=True)\n",
       "      (conv3): Conv2d(512, 2048, kernel_size=(1, 1), stride=(1, 1), bias=False)\n",
       "      (bn3): BatchNorm2d(2048, eps=1e-05, momentum=0.1, affine=True, track_running_stats=True)\n",
       "      (relu): ReLU(inplace=True)\n",
       "    )\n",
       "  )\n",
       "  (avgpool): AdaptiveAvgPool2d(output_size=(1, 1))\n",
       "  (fc): Linear(in_features=2048, out_features=10, bias=True)\n",
       ")"
      ]
     },
     "execution_count": 11,
     "metadata": {},
     "output_type": "execute_result"
    }
   ],
   "source": [
    "# Use un-pretrained model\n",
    "model = resnet50()\n",
    "\n",
    "# Replace the model head with the number of classes\n",
    "num_classes = 10\n",
    "model.fc = nn.Linear(2048, num_classes) \n",
    "model.to(DEVICE)"
   ]
  },
  {
   "cell_type": "markdown",
   "metadata": {},
   "source": [
    "# Training model from Scratch"
   ]
  },
  {
   "cell_type": "code",
   "execution_count": 12,
   "metadata": {},
   "outputs": [],
   "source": [
    "project_name = \"EuroSAT\"\n",
    "model_name = \"ResNet50\"\n",
    "models_path = \"/datasets2/Dropbox/Projects/remote_sensing/LC_classification_pytorch/models\""
   ]
  },
  {
   "cell_type": "code",
   "execution_count": 16,
   "metadata": {
    "colab": {
     "base_uri": "https://localhost:8080/"
    },
    "id": "5e-50weQZlhI",
    "outputId": "4f40760c-6b95-42d0-f2cf-ec15f78388fc"
   },
   "outputs": [
    {
     "data": {
      "text/html": [
       "wandb version 0.15.12 is available!  To upgrade, please run:\n",
       " $ pip install wandb --upgrade"
      ],
      "text/plain": [
       "<IPython.core.display.HTML object>"
      ]
     },
     "metadata": {},
     "output_type": "display_data"
    },
    {
     "data": {
      "text/html": [
       "Tracking run with wandb version 0.13.5"
      ],
      "text/plain": [
       "<IPython.core.display.HTML object>"
      ]
     },
     "metadata": {},
     "output_type": "display_data"
    },
    {
     "data": {
      "text/html": [
       "Run data is saved locally in <code>/datasets2/Dropbox/Projects/remote_sensing/LC_classification_pytorch/wandb/run-20231029_181322-1gzu9cyv</code>"
      ],
      "text/plain": [
       "<IPython.core.display.HTML object>"
      ]
     },
     "metadata": {},
     "output_type": "display_data"
    },
    {
     "data": {
      "text/html": [
       "Syncing run <strong><a href=\"https://wandb.ai/jrterven/EuroSAT/runs/1gzu9cyv\" target=\"_blank\">EuroSAT-ResNet50</a></strong> to <a href=\"https://wandb.ai/jrterven/EuroSAT\" target=\"_blank\">Weights & Biases</a> (<a href=\"https://wandb.me/run\" target=\"_blank\">docs</a>)<br/>"
      ],
      "text/plain": [
       "<IPython.core.display.HTML object>"
      ]
     },
     "metadata": {},
     "output_type": "display_data"
    },
    {
     "name": "stdout",
     "output_type": "stream",
     "text": [
      "Starting training with early stopping patience of 10\n",
      "Each epoch has 296 steps.\n",
      "\n",
      "Epoch: 1...\n",
      "Step: 21/296 Loss: 2.1419099092483522\n",
      "Step: 41/296 Loss: 1.7782224535942077\n",
      "Step: 61/296 Loss: 1.5874105632305144\n",
      "Step: 81/296 Loss: 1.45178342461586\n",
      "Step: 101/296 Loss: 1.382634276151657\n",
      "Step: 121/296 Loss: 1.3059602320194243\n",
      "Step: 141/296 Loss: 1.2501845151185988\n",
      "Step: 161/296 Loss: 1.204709029197693\n",
      "Step: 181/296 Loss: 1.1404323250055313\n",
      "Step: 201/296 Loss: 1.1037502408027648\n",
      "Step: 221/296 Loss: 1.18556167781353\n",
      "Step: 241/296 Loss: 1.080810073018074\n",
      "Step: 261/296 Loss: 0.994163379073143\n",
      "Step: 281/296 Loss: 1.0291808128356934\n",
      "Validation Loss: 0.9155 Accuracy: 0.6791\n",
      "Epoch duration: 112.81s\n",
      "\n",
      "Epoch: 2...\n",
      "Step: 21/296 Loss: 1.2325491696596145\n",
      "Step: 41/296 Loss: 1.2674286782741546\n",
      "Step: 61/296 Loss: 0.9854350537061691\n",
      "Step: 81/296 Loss: 1.1133081078529359\n",
      "Step: 101/296 Loss: 1.0866395711898804\n",
      "Step: 121/296 Loss: 0.9208508312702179\n",
      "Step: 141/296 Loss: 0.9699844062328339\n",
      "Step: 161/296 Loss: 0.8699751973152161\n",
      "Step: 181/296 Loss: 0.8923013538122178\n",
      "Step: 201/296 Loss: 0.8204825162887573\n",
      "Step: 221/296 Loss: 0.7963733434677124\n",
      "Step: 241/296 Loss: 0.8557258188724518\n",
      "Step: 261/296 Loss: 0.8063527166843414\n",
      "Step: 281/296 Loss: 0.8212076038122177\n",
      "Validation Loss: 0.8005 Accuracy: 0.7028\n",
      "Epoch duration: 68.55s\n",
      "\n",
      "Epoch: 3...\n",
      "Step: 21/296 Loss: 0.8038691818714142\n",
      "Step: 41/296 Loss: 0.8033557146787643\n",
      "Step: 61/296 Loss: 0.8569965228438378\n",
      "Step: 81/296 Loss: 0.8069952160120011\n",
      "Step: 101/296 Loss: 0.7278637021780014\n",
      "Step: 121/296 Loss: 0.6678545221686363\n",
      "Step: 141/296 Loss: 0.6912124544382096\n",
      "Step: 161/296 Loss: 0.6880890130996704\n",
      "Step: 181/296 Loss: 0.6925853431224823\n",
      "Step: 201/296 Loss: 0.7348770886659622\n",
      "Step: 221/296 Loss: 0.7033032417297364\n",
      "Step: 241/296 Loss: 0.7106169641017914\n",
      "Step: 261/296 Loss: 0.8413394466042519\n",
      "Step: 281/296 Loss: 0.7823660045862197\n",
      "Validation Loss: 0.8150 Accuracy: 0.6978\n",
      "Epoch duration: 68.08s\n",
      "\n",
      "Epoch: 4...\n",
      "Step: 21/296 Loss: 0.736785501241684\n",
      "Step: 41/296 Loss: 0.7211753934621811\n",
      "Step: 61/296 Loss: 0.6482120662927627\n",
      "Step: 81/296 Loss: 0.6759205311536789\n",
      "Step: 101/296 Loss: 0.6166594296693801\n",
      "Step: 121/296 Loss: 0.6967582464218139\n",
      "Step: 141/296 Loss: 0.6737016499042511\n",
      "Step: 161/296 Loss: 0.6365759134292602\n",
      "Step: 181/296 Loss: 0.6775447472929954\n",
      "Step: 201/296 Loss: 0.640150235593319\n",
      "Step: 221/296 Loss: 0.6064165711402894\n",
      "Step: 241/296 Loss: 0.5574506029486657\n",
      "Step: 261/296 Loss: 0.5885817840695381\n",
      "Step: 281/296 Loss: 0.7255596920847893\n",
      "Validation Loss: 0.7161 Accuracy: 0.7367\n",
      "Epoch duration: 68.70s\n",
      "\n",
      "Epoch: 5...\n",
      "Step: 21/296 Loss: 0.6478799104690551\n",
      "Step: 41/296 Loss: 0.5724112585186958\n",
      "Step: 61/296 Loss: 0.5629705742001534\n",
      "Step: 81/296 Loss: 0.5785974740982056\n",
      "Step: 101/296 Loss: 0.6416491210460663\n",
      "Step: 121/296 Loss: 0.5742866471409798\n",
      "Step: 141/296 Loss: 0.6044890016317368\n",
      "Step: 161/296 Loss: 0.5563585847616196\n",
      "Step: 181/296 Loss: 0.6187644019722939\n",
      "Step: 201/296 Loss: 0.6052881181240082\n",
      "Step: 221/296 Loss: 0.6439225241541863\n",
      "Step: 241/296 Loss: 0.615619407594204\n",
      "Step: 261/296 Loss: 0.5935072258114815\n",
      "Step: 281/296 Loss: 0.5478555768728256\n",
      "Validation Loss: 0.5825 Accuracy: 0.7913\n",
      "Epoch duration: 72.64s\n",
      "\n",
      "Epoch: 6...\n",
      "Step: 21/296 Loss: 0.5783946514129639\n",
      "Step: 41/296 Loss: 0.5363383576273918\n",
      "Step: 61/296 Loss: 0.4897999480366707\n",
      "Step: 81/296 Loss: 0.5299853965640068\n",
      "Step: 101/296 Loss: 0.502067755162716\n",
      "Step: 121/296 Loss: 0.590091136097908\n",
      "Step: 141/296 Loss: 0.5793162807822227\n",
      "Step: 161/296 Loss: 0.518417839705944\n",
      "Step: 181/296 Loss: 0.6139459848403931\n",
      "Step: 201/296 Loss: 0.6090148702263832\n",
      "Step: 221/296 Loss: 0.5581952065229416\n",
      "Step: 241/296 Loss: 0.4900080680847168\n",
      "Step: 261/296 Loss: 0.4675873458385468\n",
      "Step: 281/296 Loss: 0.4936943233013153\n",
      "Validation Loss: 0.6009 Accuracy: 0.7872\n",
      "Epoch duration: 68.17s\n",
      "\n",
      "Epoch: 7...\n",
      "Step: 21/296 Loss: 0.5774221017956733\n",
      "Step: 41/296 Loss: 0.4537331983447075\n",
      "Step: 61/296 Loss: 0.470324395596981\n",
      "Step: 81/296 Loss: 0.49729873687028886\n",
      "Step: 101/296 Loss: 0.5289979860186577\n",
      "Step: 121/296 Loss: 0.47697403505444524\n",
      "Step: 141/296 Loss: 0.5722321420907974\n",
      "Step: 161/296 Loss: 0.5722407951951027\n",
      "Step: 181/296 Loss: 0.501884189248085\n",
      "Step: 201/296 Loss: 0.4742413520812988\n",
      "Step: 221/296 Loss: 0.5165857523679733\n",
      "Step: 241/296 Loss: 0.48260726481676103\n",
      "Step: 261/296 Loss: 0.4881745487451553\n",
      "Step: 281/296 Loss: 0.5197430193424225\n",
      "Validation Loss: 0.5688 Accuracy: 0.7961\n",
      "Epoch duration: 70.97s\n",
      "\n",
      "Epoch: 8...\n",
      "Step: 21/296 Loss: 0.5290372326970101\n",
      "Step: 41/296 Loss: 0.44874891340732576\n",
      "Step: 61/296 Loss: 0.4974555879831314\n",
      "Step: 81/296 Loss: 0.5143421158194542\n",
      "Step: 101/296 Loss: 0.4385791033506393\n",
      "Step: 121/296 Loss: 0.41760303154587747\n",
      "Step: 141/296 Loss: 0.4929606020450592\n",
      "Step: 161/296 Loss: 0.4849598705768585\n",
      "Step: 181/296 Loss: 0.42444011121988295\n",
      "Step: 201/296 Loss: 0.4928895622491837\n",
      "Step: 221/296 Loss: 0.5034473478794098\n",
      "Step: 241/296 Loss: 0.4801787927746773\n",
      "Step: 261/296 Loss: 0.4571600452065468\n",
      "Step: 281/296 Loss: 0.4349269554018974\n",
      "Validation Loss: 0.5280 Accuracy: 0.8143\n",
      "Epoch duration: 74.01s\n",
      "\n",
      "Epoch: 9...\n",
      "Step: 21/296 Loss: 0.5228481099009514\n",
      "Step: 41/296 Loss: 0.5134298592805863\n",
      "Step: 61/296 Loss: 0.3848018117249012\n",
      "Step: 81/296 Loss: 0.39008231163024903\n",
      "Step: 101/296 Loss: 0.42396245524287224\n",
      "Step: 121/296 Loss: 0.3987317346036434\n",
      "Step: 141/296 Loss: 0.4585983730852604\n",
      "Step: 161/296 Loss: 0.46712497621774673\n",
      "Step: 181/296 Loss: 0.43971298933029174\n",
      "Step: 201/296 Loss: 0.4568504199385643\n",
      "Step: 221/296 Loss: 0.4859919622540474\n",
      "Step: 241/296 Loss: 0.45934331566095354\n",
      "Step: 261/296 Loss: 0.47337511628866197\n",
      "Step: 281/296 Loss: 0.4613831117749214\n",
      "Validation Loss: 0.5371 Accuracy: 0.8080\n",
      "Epoch duration: 74.26s\n",
      "\n",
      "Epoch: 10...\n",
      "Step: 21/296 Loss: 0.4151381716132164\n",
      "Step: 41/296 Loss: 0.38533998355269433\n",
      "Step: 61/296 Loss: 0.40898516178131106\n",
      "Step: 81/296 Loss: 0.3410636767745018\n",
      "Step: 101/296 Loss: 0.4504252053797245\n",
      "Step: 121/296 Loss: 0.44224482774734497\n",
      "Step: 141/296 Loss: 0.3898781605064869\n",
      "Step: 161/296 Loss: 0.4336430996656418\n",
      "Step: 181/296 Loss: 0.3774732261896133\n",
      "Step: 201/296 Loss: 0.40612870529294015\n",
      "Step: 221/296 Loss: 0.37887781783938407\n",
      "Step: 241/296 Loss: 0.4397257395088673\n",
      "Step: 261/296 Loss: 0.44256771355867386\n",
      "Step: 281/296 Loss: 0.44392535388469695\n",
      "Validation Loss: 0.4908 Accuracy: 0.8296\n",
      "Epoch duration: 74.17s\n",
      "\n",
      "Epoch: 11...\n",
      "Step: 21/296 Loss: 0.31299618631601334\n",
      "Step: 41/296 Loss: 0.4830393478274345\n",
      "Step: 61/296 Loss: 0.3729766808450222\n",
      "Step: 81/296 Loss: 0.32123928517103195\n",
      "Step: 101/296 Loss: 0.3689441181719303\n",
      "Step: 121/296 Loss: 0.3626315392553806\n",
      "Step: 141/296 Loss: 0.39001011177897454\n",
      "Step: 161/296 Loss: 0.3577611394226551\n",
      "Step: 181/296 Loss: 0.3837756380438805\n",
      "Step: 201/296 Loss: 0.4869487687945366\n",
      "Step: 221/296 Loss: 0.4056095860898495\n",
      "Step: 241/296 Loss: 0.3641846999526024\n",
      "Step: 261/296 Loss: 0.4055338054895401\n",
      "Step: 281/296 Loss: 0.4725764043629169\n",
      "Validation Loss: 0.5316 Accuracy: 0.8143\n",
      "Epoch duration: 74.94s\n",
      "\n",
      "Epoch: 12...\n",
      "Step: 21/296 Loss: 0.35763066485524175\n",
      "Step: 41/296 Loss: 0.31639920473098754\n",
      "Step: 61/296 Loss: 0.33921906650066375\n",
      "Step: 81/296 Loss: 0.345786939561367\n",
      "Step: 101/296 Loss: 0.3160951308906078\n",
      "Step: 121/296 Loss: 0.3502603232860565\n",
      "Step: 141/296 Loss: 0.4119138106703758\n",
      "Step: 161/296 Loss: 0.3500323958694935\n",
      "Step: 181/296 Loss: 0.4139624617993832\n",
      "Step: 201/296 Loss: 0.36260804533958435\n",
      "Step: 221/296 Loss: 0.40916106626391413\n",
      "Step: 241/296 Loss: 0.4497660756111145\n",
      "Step: 261/296 Loss: 0.35036132782697677\n",
      "Step: 281/296 Loss: 0.40554024577140807\n",
      "Validation Loss: 0.5174 Accuracy: 0.8269\n",
      "Epoch duration: 74.92s\n",
      "\n",
      "Epoch: 13...\n",
      "Step: 21/296 Loss: 0.3236280918121338\n",
      "Step: 41/296 Loss: 0.27379009276628496\n",
      "Step: 61/296 Loss: 0.27399556487798693\n",
      "Step: 81/296 Loss: 0.319935355335474\n",
      "Step: 101/296 Loss: 0.3416824363172054\n",
      "Step: 121/296 Loss: 0.3335129447281361\n",
      "Step: 141/296 Loss: 0.31948176249861715\n",
      "Step: 161/296 Loss: 0.406022035330534\n",
      "Step: 181/296 Loss: 0.4104251302778721\n",
      "Step: 201/296 Loss: 0.36692958548665044\n",
      "Step: 221/296 Loss: 0.36731297746300695\n",
      "Step: 241/296 Loss: 0.3284755662083626\n",
      "Step: 261/296 Loss: 0.30828515216708186\n",
      "Step: 281/296 Loss: 0.3192304909229279\n",
      "Validation Loss: 0.5574 Accuracy: 0.8211\n",
      "Epoch duration: 74.22s\n",
      "\n",
      "Epoch: 14...\n",
      "Step: 21/296 Loss: 0.2848140336573124\n"
     ]
    },
    {
     "name": "stdout",
     "output_type": "stream",
     "text": [
      "Step: 41/296 Loss: 0.2774669773876667\n",
      "Step: 61/296 Loss: 0.34479950591921804\n",
      "Step: 81/296 Loss: 0.30255731418728826\n",
      "Step: 101/296 Loss: 0.2765438877046108\n",
      "Step: 121/296 Loss: 0.2683507718145847\n",
      "Step: 141/296 Loss: 0.3906727209687233\n",
      "Step: 161/296 Loss: 0.3519929625093937\n",
      "Step: 181/296 Loss: 0.34712557792663573\n",
      "Step: 201/296 Loss: 0.3333795502781868\n",
      "Step: 221/296 Loss: 0.3372501596808434\n",
      "Step: 241/296 Loss: 0.3482023410499096\n",
      "Step: 261/296 Loss: 0.3697226457297802\n",
      "Step: 281/296 Loss: 0.40186168551445006\n",
      "Validation Loss: 0.4814 Accuracy: 0.8352\n",
      "Epoch duration: 74.08s\n",
      "\n",
      "Epoch: 15...\n",
      "Step: 21/296 Loss: 0.2666990030556917\n",
      "Step: 41/296 Loss: 0.2824180983006954\n",
      "Step: 61/296 Loss: 0.30531009659171104\n",
      "Step: 81/296 Loss: 0.3123067654669285\n",
      "Step: 101/296 Loss: 0.28546382188797\n",
      "Step: 121/296 Loss: 0.285787770152092\n",
      "Step: 141/296 Loss: 0.2565293423831463\n",
      "Step: 161/296 Loss: 0.2641175851225853\n",
      "Step: 181/296 Loss: 0.26929831206798555\n",
      "Step: 201/296 Loss: 0.23161047510802746\n",
      "Step: 221/296 Loss: 0.27831210792064665\n",
      "Step: 241/296 Loss: 0.2805030487477779\n",
      "Step: 261/296 Loss: 0.36641857251524923\n",
      "Step: 281/296 Loss: 0.27075113654136657\n",
      "Validation Loss: 0.7284 Accuracy: 0.7602\n",
      "Epoch duration: 71.64s\n",
      "\n",
      "Epoch: 16...\n",
      "Step: 21/296 Loss: 0.3853196404874325\n",
      "Step: 41/296 Loss: 0.34101653546094896\n",
      "Step: 61/296 Loss: 0.2700419783592224\n",
      "Step: 81/296 Loss: 0.23207526691257954\n",
      "Step: 101/296 Loss: 0.2789441209286451\n",
      "Step: 121/296 Loss: 0.3467407159507275\n",
      "Step: 141/296 Loss: 0.31652192324399947\n",
      "Step: 161/296 Loss: 0.3084237419068813\n",
      "Step: 181/296 Loss: 0.2660877496004105\n",
      "Step: 201/296 Loss: 0.2544961303472519\n",
      "Step: 221/296 Loss: 0.27363859713077543\n",
      "Step: 241/296 Loss: 0.272569102793932\n",
      "Step: 261/296 Loss: 0.27297367826104163\n",
      "Step: 281/296 Loss: 0.28736715391278267\n",
      "Validation Loss: 0.5619 Accuracy: 0.8202\n",
      "Epoch duration: 72.44s\n",
      "\n",
      "Epoch: 17...\n",
      "Step: 21/296 Loss: 0.21195344626903534\n",
      "Step: 41/296 Loss: 0.2024286836385727\n",
      "Step: 61/296 Loss: 0.2204249154776335\n",
      "Step: 81/296 Loss: 0.26697774454951284\n",
      "Step: 101/296 Loss: 0.20515073463320732\n",
      "Step: 121/296 Loss: 0.24620468392968178\n",
      "Step: 141/296 Loss: 0.2368357889354229\n",
      "Step: 161/296 Loss: 0.30600992068648336\n",
      "Step: 181/296 Loss: 0.32243708744645116\n",
      "Step: 201/296 Loss: 0.3039734773337841\n",
      "Step: 221/296 Loss: 0.26102716773748397\n",
      "Step: 241/296 Loss: 0.30049687922000884\n",
      "Step: 261/296 Loss: 0.24909541793167592\n",
      "Step: 281/296 Loss: 0.3202063418924809\n",
      "Validation Loss: 0.6040 Accuracy: 0.8078\n",
      "Epoch duration: 72.17s\n",
      "\n",
      "Epoch: 18...\n",
      "Step: 21/296 Loss: 0.25591850094497204\n",
      "Step: 41/296 Loss: 0.18817265704274178\n",
      "Step: 61/296 Loss: 0.21632502749562263\n",
      "Step: 81/296 Loss: 0.2471981171518564\n",
      "Step: 101/296 Loss: 0.23932149037718772\n",
      "Step: 121/296 Loss: 0.255542303994298\n",
      "Step: 141/296 Loss: 0.25813669338822365\n",
      "Step: 161/296 Loss: 0.18860807828605175\n",
      "Step: 181/296 Loss: 0.2256928015500307\n",
      "Step: 201/296 Loss: 0.29113029018044473\n",
      "Step: 221/296 Loss: 0.28211383111774924\n",
      "Step: 241/296 Loss: 0.3541485667228699\n",
      "Step: 261/296 Loss: 0.264729493111372\n",
      "Step: 281/296 Loss: 0.21712132394313813\n",
      "Validation Loss: 0.5674 Accuracy: 0.8161\n",
      "Epoch duration: 72.04s\n",
      "\n",
      "Epoch: 19...\n",
      "Step: 21/296 Loss: 0.17316739670932293\n",
      "Step: 41/296 Loss: 0.22216107733547688\n",
      "Step: 61/296 Loss: 0.1999956462532282\n",
      "Step: 81/296 Loss: 0.20251899287104608\n",
      "Step: 101/296 Loss: 0.22947512306272982\n",
      "Step: 121/296 Loss: 0.26602375991642474\n",
      "Step: 141/296 Loss: 0.27654450833797456\n",
      "Step: 161/296 Loss: 0.2585920825600624\n",
      "Step: 181/296 Loss: 0.2539914771914482\n",
      "Step: 201/296 Loss: 0.20351629052311182\n",
      "Step: 221/296 Loss: 0.22336582243442535\n",
      "Step: 241/296 Loss: 0.24234978184103967\n",
      "Step: 261/296 Loss: 0.23560127355158328\n",
      "Step: 281/296 Loss: 0.24539432004094125\n",
      "Validation Loss: 0.5710 Accuracy: 0.8324\n",
      "Epoch duration: 72.13s\n",
      "\n",
      "Epoch: 20...\n",
      "Step: 21/296 Loss: 0.192597633600235\n",
      "Step: 41/296 Loss: 0.23780979923903942\n",
      "Step: 61/296 Loss: 0.22616675309836864\n",
      "Step: 81/296 Loss: 0.21819224804639817\n",
      "Step: 101/296 Loss: 0.18780390098690986\n",
      "Step: 121/296 Loss: 0.23614997491240503\n",
      "Step: 141/296 Loss: 0.3256500855088234\n",
      "Step: 161/296 Loss: 0.2782992571592331\n",
      "Step: 181/296 Loss: 0.2060084518045187\n",
      "Step: 201/296 Loss: 0.21156462356448175\n",
      "Step: 221/296 Loss: 0.2024544458836317\n",
      "Step: 241/296 Loss: 0.18883511452004315\n",
      "Step: 261/296 Loss: 0.19093469046056272\n",
      "Step: 281/296 Loss: 0.24474713504314421\n",
      "Validation Loss: 0.6619 Accuracy: 0.8069\n",
      "Epoch duration: 72.31s\n",
      "\n",
      "Epoch: 21...\n",
      "Step: 21/296 Loss: 0.20466312505304812\n",
      "Step: 41/296 Loss: 0.15380468694493174\n",
      "Step: 61/296 Loss: 0.1956396834924817\n",
      "Step: 81/296 Loss: 0.2187665430828929\n",
      "Step: 101/296 Loss: 0.198837573826313\n",
      "Step: 121/296 Loss: 0.190255831182003\n",
      "Step: 141/296 Loss: 0.21316283009946346\n",
      "Step: 161/296 Loss: 0.27874663285911083\n",
      "Step: 181/296 Loss: 0.21172070875763893\n",
      "Step: 201/296 Loss: 0.19949652217328548\n",
      "Step: 221/296 Loss: 0.233846702426672\n",
      "Step: 241/296 Loss: 0.18488564863801002\n",
      "Step: 261/296 Loss: 0.19055245965719222\n",
      "Step: 281/296 Loss: 0.1763310745358467\n",
      "Validation Loss: 0.6265 Accuracy: 0.8191\n",
      "Epoch duration: 74.40s\n",
      "\n",
      "Epoch: 22...\n",
      "Step: 21/296 Loss: 0.1741078205406666\n",
      "Step: 41/296 Loss: 0.14436945226043463\n",
      "Step: 61/296 Loss: 0.1994634598493576\n",
      "Step: 81/296 Loss: 0.1713685542345047\n",
      "Step: 101/296 Loss: 0.1623811475932598\n",
      "Step: 121/296 Loss: 0.20518259946256875\n",
      "Step: 141/296 Loss: 0.1708008497953415\n",
      "Step: 161/296 Loss: 0.13052611369639636\n",
      "Step: 181/296 Loss: 0.2226281937211752\n",
      "Step: 201/296 Loss: 0.3125169426202774\n",
      "Step: 221/296 Loss: 0.2222768146544695\n",
      "Step: 241/296 Loss: 0.15853476524353027\n",
      "Step: 261/296 Loss: 0.24006752017885447\n",
      "Step: 281/296 Loss: 0.1944732367992401\n",
      "Validation Loss: 0.5250 Accuracy: 0.8437\n",
      "Epoch duration: 74.11s\n",
      "\n",
      "Epoch: 23...\n",
      "Step: 21/296 Loss: 0.19351099766790866\n",
      "Step: 41/296 Loss: 0.13256893027573824\n",
      "Step: 61/296 Loss: 0.159769456833601\n",
      "Step: 81/296 Loss: 0.1267673822119832\n",
      "Step: 101/296 Loss: 0.15588648039847613\n",
      "Step: 121/296 Loss: 0.16106698885560036\n",
      "Step: 141/296 Loss: 0.1791998188942671\n",
      "Step: 161/296 Loss: 0.16743230018764735\n",
      "Step: 181/296 Loss: 0.1578377228230238\n",
      "Step: 201/296 Loss: 0.1781651359051466\n",
      "Step: 221/296 Loss: 0.2127528168261051\n",
      "Step: 241/296 Loss: 0.21839035525918007\n",
      "Step: 261/296 Loss: 0.23560702465474606\n",
      "Step: 281/296 Loss: 0.2555346000939608\n",
      "Validation Loss: 0.5318 Accuracy: 0.8439\n",
      "Epoch duration: 73.71s\n",
      "\n",
      "Epoch: 24...\n",
      "Step: 21/296 Loss: 0.18067402727901935\n",
      "Step: 41/296 Loss: 0.11500496305525303\n",
      "Step: 61/296 Loss: 0.12712878715246917\n",
      "Step: 81/296 Loss: 0.14513028729707003\n",
      "Step: 101/296 Loss: 0.17522122152149677\n",
      "Step: 121/296 Loss: 0.1617974318563938\n",
      "Step: 141/296 Loss: 0.2335812095552683\n",
      "Step: 161/296 Loss: 0.2792791068553925\n",
      "Step: 181/296 Loss: 0.16494840532541274\n",
      "Step: 201/296 Loss: 0.1572013609111309\n",
      "Step: 221/296 Loss: 0.1131430933251977\n",
      "Step: 241/296 Loss: 0.12561979088932276\n",
      "Step: 261/296 Loss: 0.17032380225136876\n",
      "Step: 281/296 Loss: 0.15233413837850093\n",
      "Validation Loss: 0.6401 Accuracy: 0.8370\n",
      "Epoch duration: 73.00s\n",
      "\n",
      "Epoch: 25...\n",
      "Step: 21/296 Loss: 0.13381507359445094\n",
      "Step: 41/296 Loss: 0.13089271858334542\n",
      "Step: 61/296 Loss: 0.1913750578649342\n",
      "Step: 81/296 Loss: 0.207109534740448\n",
      "Step: 101/296 Loss: 0.14578682482242583\n",
      "Step: 121/296 Loss: 0.1348919422365725\n",
      "Step: 141/296 Loss: 0.0951253330335021\n",
      "Step: 161/296 Loss: 0.12627529241144658\n",
      "Step: 181/296 Loss: 0.16167498379945755\n",
      "Step: 201/296 Loss: 0.15372382216155528\n",
      "Step: 221/296 Loss: 0.1484964270144701\n",
      "Step: 241/296 Loss: 0.16604014448821544\n",
      "Step: 261/296 Loss: 0.1864047596231103\n",
      "Step: 281/296 Loss: 0.13723440580070018\n",
      "Validation Loss: 0.5917 Accuracy: 0.8489\n",
      "Epoch duration: 71.10s\n",
      "\n",
      "Epoch: 26...\n",
      "Step: 21/296 Loss: 0.10495138000696898\n",
      "Step: 41/296 Loss: 0.10170268332585693\n",
      "Step: 61/296 Loss: 0.10648195017129183\n",
      "Step: 81/296 Loss: 0.13121803579851984\n",
      "Step: 101/296 Loss: 0.1150200430303812\n",
      "Step: 121/296 Loss: 0.12718874737620353\n",
      "Step: 141/296 Loss: 0.18106073420494795\n",
      "Step: 161/296 Loss: 0.185005334764719\n",
      "Step: 181/296 Loss: 0.17060412243008613\n",
      "Step: 201/296 Loss: 0.1395850669592619\n",
      "Step: 221/296 Loss: 0.11427636137232185\n",
      "Step: 241/296 Loss: 0.1286529028788209\n",
      "Step: 261/296 Loss: 0.12427798714488744\n",
      "Step: 281/296 Loss: 0.14250006526708603\n",
      "Validation Loss: 0.6306 Accuracy: 0.8361\n",
      "Epoch duration: 69.92s\n",
      "\n",
      "Epoch: 27...\n",
      "Step: 21/296 Loss: 0.19051366979256273\n",
      "Step: 41/296 Loss: 0.1807272382080555\n",
      "Step: 61/296 Loss: 0.11635571122169494\n"
     ]
    },
    {
     "name": "stdout",
     "output_type": "stream",
     "text": [
      "Step: 81/296 Loss: 0.10389509182423354\n",
      "Step: 101/296 Loss: 0.15498247258365155\n",
      "Step: 121/296 Loss: 0.14842576403170823\n",
      "Step: 141/296 Loss: 0.13001281023025513\n",
      "Step: 161/296 Loss: 0.1357271283864975\n",
      "Step: 181/296 Loss: 0.13615522310137748\n",
      "Step: 201/296 Loss: 0.1432508010417223\n",
      "Step: 221/296 Loss: 0.12727388758212327\n",
      "Step: 241/296 Loss: 0.15243795625865458\n",
      "Step: 261/296 Loss: 0.15388964470475913\n",
      "Step: 281/296 Loss: 0.24619276635348797\n",
      "Validation Loss: 0.6058 Accuracy: 0.8333\n",
      "Epoch duration: 70.32s\n",
      "\n",
      "Epoch: 28...\n",
      "Step: 21/296 Loss: 0.10009287223219872\n",
      "Step: 41/296 Loss: 0.10817864220589399\n",
      "Step: 61/296 Loss: 0.11826954167336226\n",
      "Step: 81/296 Loss: 0.1436682863160968\n",
      "Step: 101/296 Loss: 0.10880670920014382\n",
      "Step: 121/296 Loss: 0.08025895282626153\n",
      "Step: 141/296 Loss: 0.09629570702090859\n",
      "Step: 161/296 Loss: 0.14330928605049847\n",
      "Step: 181/296 Loss: 0.14667159505188465\n",
      "Step: 201/296 Loss: 0.12032873574644327\n",
      "Step: 221/296 Loss: 0.09354796493425965\n",
      "Step: 241/296 Loss: 0.16475843898952008\n",
      "Step: 261/296 Loss: 0.1472717123106122\n",
      "Step: 281/296 Loss: 0.16413696194067598\n",
      "Validation Loss: 0.5589 Accuracy: 0.8507\n",
      "Epoch duration: 70.91s\n",
      "\n",
      "Epoch: 29...\n",
      "Step: 21/296 Loss: 0.09950570426881314\n",
      "Step: 41/296 Loss: 0.08577167466282845\n",
      "Step: 61/296 Loss: 0.08807616559788585\n",
      "Step: 81/296 Loss: 0.09905358441174031\n",
      "Step: 101/296 Loss: 0.10881798239424825\n",
      "Step: 121/296 Loss: 0.16802801210433244\n",
      "Step: 141/296 Loss: 0.20811769962310792\n",
      "Step: 161/296 Loss: 0.14291510330513119\n",
      "Step: 181/296 Loss: 0.14874824769794942\n",
      "Step: 201/296 Loss: 0.143831486441195\n",
      "Step: 221/296 Loss: 0.10581421833485365\n",
      "Step: 241/296 Loss: 0.0840689716860652\n",
      "Step: 261/296 Loss: 0.09933464070782065\n",
      "Step: 281/296 Loss: 0.1069629137404263\n",
      "Validation Loss: 0.6036 Accuracy: 0.8461\n",
      "Epoch duration: 71.71s\n",
      "\n",
      "Epoch: 30...\n",
      "Step: 21/296 Loss: 0.10396353285759688\n",
      "Step: 41/296 Loss: 0.0958938709460199\n",
      "Step: 61/296 Loss: 0.10085882777348161\n",
      "Step: 81/296 Loss: 0.07169092539697886\n",
      "Step: 101/296 Loss: 0.07799875168129802\n",
      "Step: 121/296 Loss: 0.11135557228699326\n",
      "Step: 141/296 Loss: 0.1415272002108395\n",
      "Step: 161/296 Loss: 0.13213133420795203\n",
      "Step: 181/296 Loss: 0.10753393331542611\n",
      "Step: 201/296 Loss: 0.08510905066505074\n",
      "Step: 221/296 Loss: 0.10704509392380715\n",
      "Step: 241/296 Loss: 0.13792226053774356\n",
      "Step: 261/296 Loss: 0.14320451868698\n",
      "Step: 281/296 Loss: 0.10561202019453049\n",
      "Validation Loss: 0.5833 Accuracy: 0.8428\n",
      "Epoch duration: 72.34s\n",
      "\n",
      "Epoch: 31...\n",
      "Step: 21/296 Loss: 0.11873755296692252\n",
      "Step: 41/296 Loss: 0.1437261149287224\n",
      "Step: 61/296 Loss: 0.08782723788172006\n",
      "Step: 81/296 Loss: 0.0666007749736309\n",
      "Step: 101/296 Loss: 0.06618608394637704\n",
      "Step: 121/296 Loss: 0.05964721217751503\n",
      "Step: 141/296 Loss: 0.08812950812280178\n",
      "Step: 161/296 Loss: 0.11385013684630393\n",
      "Step: 181/296 Loss: 0.09781815516762435\n",
      "Step: 201/296 Loss: 0.1435251328162849\n",
      "Step: 221/296 Loss: 0.11674978137016297\n",
      "Step: 241/296 Loss: 0.17286364324390888\n",
      "Step: 261/296 Loss: 0.18907582573592663\n",
      "Step: 281/296 Loss: 0.156238223426044\n",
      "Validation Loss: 0.6371 Accuracy: 0.8324\n",
      "Epoch duration: 71.77s\n",
      "\n",
      "Epoch: 32...\n",
      "Step: 21/296 Loss: 0.1448000197298825\n",
      "Step: 41/296 Loss: 0.09338344307616353\n",
      "Step: 61/296 Loss: 0.06971710682846606\n",
      "Step: 81/296 Loss: 0.07657899176701903\n",
      "Step: 101/296 Loss: 0.09208423728123308\n",
      "Step: 121/296 Loss: 0.09852561485022307\n",
      "Step: 141/296 Loss: 0.055171752162277696\n",
      "Step: 161/296 Loss: 0.06970636164769531\n",
      "Step: 181/296 Loss: 0.1142129885032773\n",
      "Step: 201/296 Loss: 0.12194894645363093\n",
      "Step: 221/296 Loss: 0.10721572544425725\n",
      "Step: 241/296 Loss: 0.10650089029222727\n",
      "Step: 261/296 Loss: 0.13834213837981224\n",
      "Step: 281/296 Loss: 0.13151784613728523\n",
      "Validation Loss: 0.6613 Accuracy: 0.8248\n",
      "Epoch duration: 70.62s\n",
      "\n",
      "Epoch: 33...\n",
      "Step: 21/296 Loss: 0.15718678571283817\n",
      "Step: 41/296 Loss: 0.11275135893374681\n",
      "Step: 61/296 Loss: 0.08101930590346455\n",
      "Step: 81/296 Loss: 0.08882201127707959\n",
      "Step: 101/296 Loss: 0.07892886633053423\n",
      "Step: 121/296 Loss: 0.0961318477988243\n",
      "Step: 141/296 Loss: 0.11215016609057785\n",
      "Step: 161/296 Loss: 0.11028848858550191\n",
      "Step: 181/296 Loss: 0.11188402539119124\n",
      "Step: 201/296 Loss: 0.10366744450293482\n",
      "Step: 221/296 Loss: 0.09846817636862397\n",
      "Step: 241/296 Loss: 0.12570786383002996\n",
      "Step: 261/296 Loss: 0.12478615436702967\n",
      "Step: 281/296 Loss: 0.12640580218285322\n",
      "Validation Loss: 0.6524 Accuracy: 0.8413\n",
      "Epoch duration: 69.30s\n",
      "\n",
      "Epoch: 34...\n",
      "Step: 21/296 Loss: 0.08987977728247643\n",
      "Step: 41/296 Loss: 0.07939575994387268\n",
      "Step: 61/296 Loss: 0.07335321852006019\n",
      "Step: 81/296 Loss: 0.09455867661163211\n",
      "Step: 101/296 Loss: 0.1478694688528776\n",
      "Step: 121/296 Loss: 0.14776778556406497\n",
      "Step: 141/296 Loss: 0.1260155053809285\n",
      "Step: 161/296 Loss: 0.08543316428549588\n",
      "Step: 181/296 Loss: 0.07590099843218923\n",
      "Step: 201/296 Loss: 0.07615442718379199\n",
      "Step: 221/296 Loss: 0.0953883065842092\n",
      "Step: 241/296 Loss: 0.14015060174278915\n",
      "Step: 261/296 Loss: 0.10008345097303391\n",
      "Step: 281/296 Loss: 0.07452069632709027\n",
      "Validation Loss: 0.7438 Accuracy: 0.8248\n",
      "Epoch duration: 69.24s\n",
      "\n",
      "Epoch: 35...\n",
      "Step: 21/296 Loss: 0.17709295824170113\n",
      "Step: 41/296 Loss: 0.12318673618137836\n",
      "Step: 61/296 Loss: 0.08446336518973112\n",
      "Step: 81/296 Loss: 0.0681391500402242\n",
      "Step: 101/296 Loss: 0.08039030143991113\n",
      "Step: 121/296 Loss: 0.06271886806935072\n",
      "Step: 141/296 Loss: 0.05503608337603509\n",
      "Step: 161/296 Loss: 0.09710040637291968\n",
      "Step: 181/296 Loss: 0.09684347528964281\n",
      "Step: 201/296 Loss: 0.07740228208713233\n",
      "Step: 221/296 Loss: 0.08655459033325315\n",
      "Step: 241/296 Loss: 0.08990611601620913\n",
      "Step: 261/296 Loss: 0.09617081563919783\n",
      "Step: 281/296 Loss: 0.07098572365939618\n",
      "Validation Loss: 0.6857 Accuracy: 0.8354\n",
      "Epoch duration: 70.32s\n",
      "\n",
      "Epoch: 36...\n",
      "Step: 21/296 Loss: 0.09541501067578792\n",
      "Step: 41/296 Loss: 0.07722663627937436\n",
      "Step: 61/296 Loss: 0.06986607676371932\n",
      "Step: 81/296 Loss: 0.047513036709278825\n",
      "Step: 101/296 Loss: 0.06093567369971424\n",
      "Step: 121/296 Loss: 0.07133146035484969\n",
      "Step: 141/296 Loss: 0.07406339065637439\n",
      "Step: 161/296 Loss: 0.08973738877102733\n",
      "Step: 181/296 Loss: 0.08549419515766203\n",
      "Step: 201/296 Loss: 0.10528289331123233\n",
      "Step: 221/296 Loss: 0.08040642626583576\n",
      "Step: 241/296 Loss: 0.09725214401260018\n",
      "Step: 261/296 Loss: 0.14663853999227286\n",
      "Step: 281/296 Loss: 0.11964911576360464\n",
      "Validation Loss: 0.6086 Accuracy: 0.8517\n",
      "Epoch duration: 71.78s\n",
      "\n",
      "Epoch: 37...\n",
      "Step: 21/296 Loss: 0.07542191818356514\n",
      "Step: 41/296 Loss: 0.08475003167986869\n",
      "Step: 61/296 Loss: 0.10036981906741857\n",
      "Step: 81/296 Loss: 0.06753310491330922\n",
      "Step: 101/296 Loss: 0.06204821881838143\n",
      "Step: 121/296 Loss: 0.09107979857362807\n",
      "Step: 141/296 Loss: 0.0625110304914415\n",
      "Step: 161/296 Loss: 0.06680805743671954\n",
      "Step: 181/296 Loss: 0.1514503830112517\n",
      "Step: 201/296 Loss: 0.14027505032718182\n",
      "Step: 221/296 Loss: 0.09652490802109241\n",
      "Step: 241/296 Loss: 0.09838510695844889\n",
      "Step: 261/296 Loss: 0.08373783295974135\n",
      "Step: 281/296 Loss: 0.11692102309316396\n",
      "Validation Loss: 0.6895 Accuracy: 0.8263\n",
      "Epoch duration: 70.48s\n",
      "\n",
      "Epoch: 38...\n",
      "Step: 21/296 Loss: 0.06822553593665362\n",
      "Step: 41/296 Loss: 0.049902607407420876\n",
      "Step: 61/296 Loss: 0.05224579875357449\n",
      "Step: 81/296 Loss: 0.05675225018057972\n",
      "Step: 101/296 Loss: 0.06111453981138766\n",
      "Step: 121/296 Loss: 0.04732921745162457\n",
      "Step: 141/296 Loss: 0.09431912801228463\n",
      "Step: 161/296 Loss: 0.098373550362885\n",
      "Step: 181/296 Loss: 0.11843516789376736\n",
      "Step: 201/296 Loss: 0.14328770209103822\n",
      "Step: 221/296 Loss: 0.12082968824543058\n",
      "Step: 241/296 Loss: 0.06586440354585647\n",
      "Step: 261/296 Loss: 0.09406043896451592\n",
      "Step: 281/296 Loss: 0.06967570558190346\n",
      "Validation Loss: 0.6482 Accuracy: 0.8452\n",
      "Epoch duration: 70.60s\n",
      "\n",
      "Epoch: 39...\n",
      "Step: 21/296 Loss: 0.08748839236795902\n",
      "Step: 41/296 Loss: 0.06506844307295978\n",
      "Step: 61/296 Loss: 0.08910738609265537\n",
      "Step: 81/296 Loss: 0.0905417707748711\n",
      "Step: 101/296 Loss: 0.09229178102687001\n",
      "Step: 121/296 Loss: 0.07072211161721498\n",
      "Step: 141/296 Loss: 0.13470817832276225\n",
      "Step: 161/296 Loss: 0.09018805231899023\n",
      "Step: 181/296 Loss: 0.05651857228949666\n",
      "Step: 201/296 Loss: 0.06131314788945019\n",
      "Step: 221/296 Loss: 0.07365005509927869\n",
      "Step: 241/296 Loss: 0.07091718940064311\n",
      "Step: 261/296 Loss: 0.08886657310649752\n",
      "Step: 281/296 Loss: 0.09544887524098158\n",
      "Validation Loss: 0.6604 Accuracy: 0.8376\n",
      "Epoch duration: 70.19s\n",
      "\n",
      "Epoch: 40...\n",
      "Step: 21/296 Loss: 0.06563470889814198\n",
      "Step: 41/296 Loss: 0.059828027803450826\n",
      "Step: 61/296 Loss: 0.11433789376169443\n"
     ]
    },
    {
     "name": "stdout",
     "output_type": "stream",
     "text": [
      "Step: 81/296 Loss: 0.08073832569643855\n",
      "Step: 101/296 Loss: 0.06307175885885954\n",
      "Step: 121/296 Loss: 0.074239935958758\n",
      "Step: 141/296 Loss: 0.06424751812592149\n",
      "Step: 161/296 Loss: 0.07952567832544447\n",
      "Step: 181/296 Loss: 0.08863666281104088\n",
      "Step: 201/296 Loss: 0.07142767622135579\n",
      "Step: 221/296 Loss: 0.07397885015234351\n",
      "Step: 241/296 Loss: 0.11715005589649082\n",
      "Step: 261/296 Loss: 0.1100154122337699\n",
      "Step: 281/296 Loss: 0.08256768975406885\n",
      "Validation Loss: 0.6189 Accuracy: 0.8500\n",
      "Epoch duration: 70.39s\n",
      "\n",
      "Epoch: 41...\n",
      "Step: 21/296 Loss: 0.07413032990880311\n",
      "Step: 41/296 Loss: 0.05675351438112557\n",
      "Step: 61/296 Loss: 0.08617345730308443\n",
      "Step: 81/296 Loss: 0.1813023048453033\n",
      "Step: 101/296 Loss: 0.09875658340752125\n",
      "Step: 121/296 Loss: 0.06887223804369569\n",
      "Step: 141/296 Loss: 0.06482478007674217\n",
      "Step: 161/296 Loss: 0.05825264067389071\n",
      "Step: 181/296 Loss: 0.08397492319345475\n",
      "Step: 201/296 Loss: 0.09499604185111821\n",
      "Step: 221/296 Loss: 0.12037769490852952\n",
      "Step: 241/296 Loss: 0.11730069387704134\n",
      "Step: 261/296 Loss: 0.08379842839203774\n",
      "Step: 281/296 Loss: 0.08115699486806989\n",
      "Validation Loss: 0.6914 Accuracy: 0.8456\n",
      "Epoch duration: 71.79s\n",
      "\n",
      "Epoch: 42...\n",
      "Step: 21/296 Loss: 0.0627418581279926\n",
      "Step: 41/296 Loss: 0.06373964603990316\n",
      "Step: 61/296 Loss: 0.12527877017855643\n",
      "Step: 81/296 Loss: 0.1921886106953025\n",
      "Step: 101/296 Loss: 0.11215278692543507\n",
      "Step: 121/296 Loss: 0.09730632537975907\n",
      "Step: 141/296 Loss: 0.0652155067306012\n",
      "Step: 161/296 Loss: 0.057327672652900216\n",
      "Step: 181/296 Loss: 0.0764571820385754\n",
      "Step: 201/296 Loss: 0.0645089304074645\n",
      "Step: 221/296 Loss: 0.06084929350763559\n",
      "Step: 241/296 Loss: 0.06770767169073225\n",
      "Step: 261/296 Loss: 0.08111400799825788\n",
      "Step: 281/296 Loss: 0.06947354590520263\n",
      "Validation Loss: 0.6443 Accuracy: 0.8504\n",
      "Epoch duration: 71.48s\n",
      "\n",
      "Epoch: 43...\n",
      "Step: 21/296 Loss: 0.04357884060591459\n",
      "Step: 41/296 Loss: 0.06184107875451446\n",
      "Step: 61/296 Loss: 0.06410649227909744\n",
      "Step: 81/296 Loss: 0.05198446969734505\n",
      "Step: 101/296 Loss: 0.04938301290385425\n",
      "Step: 121/296 Loss: 0.04747859157505445\n",
      "Step: 141/296 Loss: 0.05109154786914587\n",
      "Step: 161/296 Loss: 0.05285525768995285\n",
      "Step: 181/296 Loss: 0.06581476551946253\n",
      "Step: 201/296 Loss: 0.09733992419205606\n",
      "Step: 221/296 Loss: 0.10932787773199379\n",
      "Step: 241/296 Loss: 0.10987289175391197\n",
      "Step: 261/296 Loss: 0.11031263321638107\n",
      "Step: 281/296 Loss: 0.13536063833162187\n",
      "Validation Loss: 0.6347 Accuracy: 0.8420\n",
      "Epoch duration: 70.31s\n",
      "\n",
      "Epoch: 44...\n",
      "Step: 21/296 Loss: 0.06095872274599969\n",
      "Step: 41/296 Loss: 0.06163442088291049\n",
      "Step: 61/296 Loss: 0.08778765322640539\n",
      "Step: 81/296 Loss: 0.10942375715821981\n",
      "Step: 101/296 Loss: 0.08807996632531286\n",
      "Step: 121/296 Loss: 0.07801305167376996\n",
      "Step: 141/296 Loss: 0.07312323045916855\n",
      "Step: 161/296 Loss: 0.09029194873291999\n",
      "Step: 181/296 Loss: 0.1016964896582067\n",
      "Step: 201/296 Loss: 0.09499203441664576\n",
      "Step: 221/296 Loss: 0.06360926167108119\n",
      "Step: 241/296 Loss: 0.05622183624655008\n",
      "Step: 261/296 Loss: 0.03960004902910441\n",
      "Step: 281/296 Loss: 0.033141636708751324\n",
      "Validation Loss: 0.7359 Accuracy: 0.8522\n",
      "Epoch duration: 71.71s\n",
      "\n",
      "Epoch: 45...\n",
      "Step: 21/296 Loss: 0.0674613615963608\n",
      "Step: 41/296 Loss: 0.07078430505935103\n",
      "Step: 61/296 Loss: 0.06534800583031028\n",
      "Step: 81/296 Loss: 0.05617387184174731\n",
      "Step: 101/296 Loss: 0.11925819087773562\n",
      "Step: 121/296 Loss: 0.08562832190655172\n",
      "Step: 141/296 Loss: 0.07791115925647318\n",
      "Step: 161/296 Loss: 0.09086078670807182\n",
      "Step: 181/296 Loss: 0.07293989290483296\n",
      "Step: 201/296 Loss: 0.06363606322556734\n",
      "Step: 221/296 Loss: 0.0604600437451154\n",
      "Step: 241/296 Loss: 0.062373607465997336\n",
      "Step: 261/296 Loss: 0.11708844983950258\n",
      "Step: 281/296 Loss: 0.09471911531873048\n",
      "Validation Loss: 0.7413 Accuracy: 0.8070\n",
      "Epoch duration: 70.78s\n",
      "\n",
      "Epoch: 46...\n",
      "Step: 21/296 Loss: 0.08333851522766053\n",
      "Step: 41/296 Loss: 0.045842342800460754\n",
      "Step: 61/296 Loss: 0.03860005571041256\n",
      "Step: 81/296 Loss: 0.04977042712271214\n",
      "Step: 101/296 Loss: 0.05945850356947631\n",
      "Step: 121/296 Loss: 0.08115865788422524\n",
      "Step: 141/296 Loss: 0.06949112205766142\n",
      "Step: 161/296 Loss: 0.05049544828943908\n",
      "Step: 181/296 Loss: 0.07309221308678389\n",
      "Step: 201/296 Loss: 0.04430251982994378\n",
      "Step: 221/296 Loss: 0.08713502688333392\n",
      "Step: 241/296 Loss: 0.06605708166025578\n",
      "Step: 261/296 Loss: 0.05512128702830523\n",
      "Step: 281/296 Loss: 0.05417379485443234\n",
      "Validation Loss: 0.6553 Accuracy: 0.8535\n",
      "Epoch duration: 71.63s\n",
      "\n",
      "Epoch: 47...\n",
      "Step: 21/296 Loss: 0.06271256918553263\n",
      "Step: 41/296 Loss: 0.05607790248468518\n",
      "Step: 61/296 Loss: 0.08082758281379938\n",
      "Step: 81/296 Loss: 0.06910706218332052\n",
      "Step: 101/296 Loss: 0.05665199743816629\n",
      "Step: 121/296 Loss: 0.028161151887616143\n",
      "Step: 141/296 Loss: 0.025334823550656436\n",
      "Step: 161/296 Loss: 0.09264659034088255\n",
      "Step: 181/296 Loss: 0.0963650859077461\n",
      "Step: 201/296 Loss: 0.09325274545699358\n",
      "Step: 221/296 Loss: 0.12236986802890897\n",
      "Step: 241/296 Loss: 0.08545126123353838\n",
      "Step: 261/296 Loss: 0.08305543083697557\n",
      "Step: 281/296 Loss: 0.0833464078605175\n",
      "Validation Loss: 0.7222 Accuracy: 0.8261\n",
      "Epoch duration: 71.94s\n",
      "\n",
      "Epoch: 48...\n",
      "Step: 21/296 Loss: 0.13079511579126119\n",
      "Step: 41/296 Loss: 0.06353450785391032\n",
      "Step: 61/296 Loss: 0.060936218174174425\n",
      "Step: 81/296 Loss: 0.040893214754760265\n",
      "Step: 101/296 Loss: 0.03898261452559382\n",
      "Step: 121/296 Loss: 0.09121893597766757\n",
      "Step: 141/296 Loss: 0.13746272982098162\n",
      "Step: 161/296 Loss: 0.09187289653345942\n",
      "Step: 181/296 Loss: 0.08325761696323752\n",
      "Step: 201/296 Loss: 0.05581634012050927\n",
      "Step: 221/296 Loss: 0.0585692641325295\n",
      "Step: 241/296 Loss: 0.05709999911487103\n",
      "Step: 261/296 Loss: 0.04151219693012535\n",
      "Step: 281/296 Loss: 0.04618621722329408\n",
      "Validation Loss: 0.7739 Accuracy: 0.8417\n",
      "Epoch duration: 73.03s\n",
      "\n",
      "Epoch: 49...\n",
      "Step: 21/296 Loss: 0.05975737967528403\n",
      "Step: 41/296 Loss: 0.05647204195847735\n",
      "Step: 61/296 Loss: 0.05096324405167252\n",
      "Step: 81/296 Loss: 0.050516543840058145\n",
      "Step: 101/296 Loss: 0.048839704622514545\n",
      "Step: 121/296 Loss: 0.0658016094006598\n",
      "Step: 141/296 Loss: 0.0731876339064911\n",
      "Step: 161/296 Loss: 0.07930002454668283\n",
      "Step: 181/296 Loss: 0.054085932206362486\n",
      "Step: 201/296 Loss: 0.1581466594710946\n",
      "Step: 221/296 Loss: 0.17994736600667238\n",
      "Step: 241/296 Loss: 0.12293593399226665\n",
      "Step: 261/296 Loss: 0.06469687558710575\n",
      "Step: 281/296 Loss: 0.03853053238708526\n",
      "Validation Loss: 0.5898 Accuracy: 0.8561\n",
      "Epoch duration: 72.30s\n",
      "\n",
      "Epoch: 50...\n",
      "Step: 21/296 Loss: 0.06275754701346159\n",
      "Step: 41/296 Loss: 0.030930131708737464\n",
      "Step: 61/296 Loss: 0.02988340933807194\n",
      "Step: 81/296 Loss: 0.04197097949218005\n",
      "Step: 101/296 Loss: 0.04270732149016112\n",
      "Step: 121/296 Loss: 0.041016573272645476\n",
      "Step: 141/296 Loss: 0.031704302976140755\n",
      "Step: 161/296 Loss: 0.03428861228749156\n",
      "Step: 181/296 Loss: 0.07040117853321134\n",
      "Step: 201/296 Loss: 0.08775534147862345\n",
      "Step: 221/296 Loss: 0.05945955119095743\n",
      "Step: 241/296 Loss: 0.05400815168395638\n",
      "Step: 261/296 Loss: 0.05152708850800991\n",
      "Step: 281/296 Loss: 0.06623300001956522\n",
      "Validation Loss: 0.7204 Accuracy: 0.8394\n",
      "Epoch duration: 71.64s\n",
      "\n",
      "Epoch: 51...\n",
      "Step: 21/296 Loss: 0.06068578402046114\n",
      "Step: 41/296 Loss: 0.04196777534671128\n",
      "Step: 61/296 Loss: 0.057801128807477654\n",
      "Step: 81/296 Loss: 0.06951680798083544\n",
      "Step: 101/296 Loss: 0.055181139567866924\n",
      "Step: 121/296 Loss: 0.0593427941435948\n",
      "Step: 141/296 Loss: 0.03901364528574049\n",
      "Step: 161/296 Loss: 0.029045649920590222\n",
      "Step: 181/296 Loss: 0.05226341113448143\n",
      "Step: 201/296 Loss: 0.07885141015285627\n",
      "Step: 221/296 Loss: 0.036111750500276686\n",
      "Step: 241/296 Loss: 0.034717820771038535\n",
      "Step: 261/296 Loss: 0.03741413552779704\n",
      "Step: 281/296 Loss: 0.06358913290314376\n",
      "Validation Loss: 0.7493 Accuracy: 0.8383\n",
      "Epoch duration: 71.85s\n",
      "\n",
      "Epoch: 52...\n",
      "Step: 21/296 Loss: 0.10482787028886378\n",
      "Step: 41/296 Loss: 0.07554499777033925\n",
      "Step: 61/296 Loss: 0.05557830752804875\n",
      "Step: 81/296 Loss: 0.04510076094884426\n",
      "Step: 101/296 Loss: 0.06486289841122925\n",
      "Step: 121/296 Loss: 0.07887911885045469\n",
      "Step: 141/296 Loss: 0.16024677883833646\n",
      "Step: 161/296 Loss: 0.09048632755875588\n",
      "Step: 181/296 Loss: 0.05931745665147901\n",
      "Step: 201/296 Loss: 0.035241330764256416\n",
      "Step: 221/296 Loss: 0.05642079815734178\n",
      "Step: 241/296 Loss: 0.12488785358145833\n",
      "Step: 261/296 Loss: 0.11264380346983671\n",
      "Step: 281/296 Loss: 0.047174841980449855\n",
      "Validation Loss: 0.6934 Accuracy: 0.8424\n",
      "Epoch duration: 72.30s\n",
      "\n",
      "Epoch: 53...\n",
      "Step: 21/296 Loss: 0.05747637491440401\n",
      "Step: 41/296 Loss: 0.08930601989850402\n"
     ]
    },
    {
     "name": "stdout",
     "output_type": "stream",
     "text": [
      "Step: 61/296 Loss: 0.07437469647265971\n",
      "Step: 81/296 Loss: 0.05960357978474349\n",
      "Step: 101/296 Loss: 0.025507424143142998\n",
      "Step: 121/296 Loss: 0.03287068816134706\n",
      "Step: 141/296 Loss: 0.04790194963570684\n",
      "Step: 161/296 Loss: 0.04053444252349436\n",
      "Step: 181/296 Loss: 0.02406736375996843\n",
      "Step: 201/296 Loss: 0.0312203614768805\n",
      "Step: 221/296 Loss: 0.03696173205971718\n",
      "Step: 241/296 Loss: 0.028985058498801664\n",
      "Step: 261/296 Loss: 0.11076732014771551\n",
      "Step: 281/296 Loss: 0.16104835141450166\n",
      "Validation Loss: 0.6866 Accuracy: 0.8383\n",
      "Epoch duration: 69.52s\n",
      "\n",
      "Epoch: 54...\n",
      "Step: 21/296 Loss: 0.0718392952810973\n",
      "Step: 41/296 Loss: 0.06606607977300882\n",
      "Step: 61/296 Loss: 0.05427385233342648\n",
      "Step: 81/296 Loss: 0.03499640114605427\n",
      "Step: 101/296 Loss: 0.04590706187300384\n",
      "Step: 121/296 Loss: 0.03126813492272049\n",
      "Step: 141/296 Loss: 0.05633213874534704\n",
      "Step: 161/296 Loss: 0.06493604648858309\n",
      "Step: 181/296 Loss: 0.04594800963532179\n",
      "Step: 201/296 Loss: 0.10936776199378073\n",
      "Step: 221/296 Loss: 0.08312912182882429\n",
      "Step: 241/296 Loss: 0.07325809961184859\n",
      "Step: 261/296 Loss: 0.06682484147604555\n",
      "Step: 281/296 Loss: 0.07154707065783442\n",
      "Validation Loss: 0.6706 Accuracy: 0.8494\n",
      "Epoch duration: 69.05s\n",
      "\n",
      "Epoch: 55...\n",
      "Step: 21/296 Loss: 0.06036693553905934\n",
      "Step: 41/296 Loss: 0.04254033432807773\n",
      "Step: 61/296 Loss: 0.028767726523801683\n",
      "Step: 81/296 Loss: 0.025505711953155697\n",
      "Step: 101/296 Loss: 0.020698606316000224\n",
      "Step: 121/296 Loss: 0.023806119535584\n",
      "Step: 141/296 Loss: 0.030016602243995293\n",
      "Step: 161/296 Loss: 0.043940739321988075\n",
      "Step: 181/296 Loss: 0.05800932433921844\n",
      "Step: 201/296 Loss: 0.06192699428647756\n",
      "Step: 221/296 Loss: 0.053994983388111\n",
      "Step: 241/296 Loss: 0.04942697746446356\n",
      "Step: 261/296 Loss: 0.08551056052092462\n",
      "Step: 281/296 Loss: 0.08640468111261726\n",
      "Validation Loss: 0.6900 Accuracy: 0.8454\n",
      "Epoch duration: 69.89s\n",
      "\n",
      "Epoch: 56...\n",
      "Step: 21/296 Loss: 0.07017684779129922\n",
      "Step: 41/296 Loss: 0.06956169605255128\n",
      "Step: 61/296 Loss: 0.047582190064713356\n",
      "Step: 81/296 Loss: 0.046489158732583746\n",
      "Step: 101/296 Loss: 0.06357000840362162\n",
      "Step: 121/296 Loss: 0.035385521233547476\n",
      "Step: 141/296 Loss: 0.044307321705855426\n",
      "Step: 161/296 Loss: 0.0959875981323421\n",
      "Step: 181/296 Loss: 0.05299901743419468\n",
      "Step: 201/296 Loss: 0.04319160459563136\n",
      "Step: 221/296 Loss: 0.053976422548294066\n",
      "Step: 241/296 Loss: 0.05051244683563709\n",
      "Step: 261/296 Loss: 0.10403680844465271\n",
      "Step: 281/296 Loss: 0.09072462585754693\n",
      "Validation Loss: 0.6497 Accuracy: 0.8411\n",
      "Epoch duration: 69.50s\n",
      "\n",
      "Epoch: 57...\n",
      "Step: 21/296 Loss: 0.032318601454608145\n",
      "Step: 41/296 Loss: 0.04861624734476209\n",
      "Step: 61/296 Loss: 0.05527479192242026\n",
      "Step: 81/296 Loss: 0.04639186863787472\n",
      "Step: 101/296 Loss: 0.03838321651564911\n",
      "Step: 121/296 Loss: 0.049866411555558446\n",
      "Step: 141/296 Loss: 0.044185617752373216\n",
      "Step: 161/296 Loss: 0.04614091897383332\n",
      "Step: 181/296 Loss: 0.0401933639543131\n",
      "Step: 201/296 Loss: 0.031487178453244266\n",
      "Step: 221/296 Loss: 0.027577901806216686\n",
      "Step: 241/296 Loss: 0.04850007835775614\n",
      "Step: 261/296 Loss: 0.07318794521270319\n",
      "Step: 281/296 Loss: 0.06866809986531734\n",
      "Validation Loss: 0.6789 Accuracy: 0.8541\n",
      "Epoch duration: 69.29s\n",
      "\n",
      "Epoch: 58...\n",
      "Step: 21/296 Loss: 0.045509026932995765\n",
      "Step: 41/296 Loss: 0.04731759508140385\n",
      "Step: 61/296 Loss: 0.03404788074549288\n",
      "Step: 81/296 Loss: 0.048269532062113284\n",
      "Step: 101/296 Loss: 0.04863506341353059\n",
      "Step: 121/296 Loss: 0.04717937767272815\n",
      "Step: 141/296 Loss: 0.034828838345129044\n",
      "Step: 161/296 Loss: 0.03654517487157136\n",
      "Step: 181/296 Loss: 0.0440463931998238\n",
      "Step: 201/296 Loss: 0.036319392477162184\n",
      "Step: 221/296 Loss: 0.05504846677649766\n",
      "Step: 241/296 Loss: 0.0659057161770761\n",
      "Step: 261/296 Loss: 0.1060681599425152\n",
      "Step: 281/296 Loss: 0.06151689365506172\n",
      "Validation Loss: 0.7010 Accuracy: 0.8483\n",
      "Epoch duration: 69.88s\n",
      "\n",
      "Epoch: 59...\n",
      "Step: 21/296 Loss: 0.04683866987470538\n",
      "Step: 41/296 Loss: 0.03362234085798264\n",
      "Step: 61/296 Loss: 0.022598202503286303\n",
      "Step: 81/296 Loss: 0.07065520995529369\n",
      "Step: 101/296 Loss: 0.043839071970433\n",
      "Step: 121/296 Loss: 0.04505771957337856\n",
      "Step: 141/296 Loss: 0.036990460380911826\n",
      "Step: 161/296 Loss: 0.021886152680963278\n",
      "Step: 181/296 Loss: 0.02482690886245109\n",
      "Step: 201/296 Loss: 0.031668516946956514\n",
      "Step: 221/296 Loss: 0.047514945501461625\n",
      "Step: 241/296 Loss: 0.05068440260365605\n",
      "Step: 261/296 Loss: 0.0658463298343122\n",
      "Step: 281/296 Loss: 0.06644394751638175\n",
      "Validation Loss: 0.7562 Accuracy: 0.8272\n",
      "Epoch duration: 69.87s\n",
      "\n",
      "Early stopping invoked in epoch 59\n"
     ]
    }
   ],
   "source": [
    "epochs = 200\n",
    "lr = 0.0001\n",
    "patience = 10\n",
    "\n",
    "run = wandb.init(\n",
    "    # Set the project where this run will be logged\n",
    "    project=project_name,\n",
    "    name=model_name,\n",
    "    notes=\"ResNet from scratch\",\n",
    "    # Track hyperparameters and run metadata\n",
    "    config={\n",
    "        \"learning_rate\": lr,\n",
    "        \"epochs\": epochs,\n",
    "        \"batch_size\": train_batch,\n",
    "        \"patience\": patience\n",
    "    })\n",
    "\n",
    "loss_i, loss_val_i = train_model(model=model, epochs=epochs, \n",
    "                                 train_loader=train_loader,\n",
    "                                 valid_loader=valid_loader,\n",
    "                                 lr=lr, patience=patience, device=DEVICE)"
   ]
  },
  {
   "cell_type": "markdown",
   "metadata": {},
   "source": [
    "## Save model"
   ]
  },
  {
   "cell_type": "code",
   "execution_count": 17,
   "metadata": {
    "colab": {
     "base_uri": "https://localhost:8080/"
    },
    "id": "wQSjoVBQbaky",
    "outputId": "7086a583-b902-4681-93c8-0155073490aa"
   },
   "outputs": [
    {
     "name": "stdout",
     "output_type": "stream",
     "text": [
      "Saving model to: /datasets2/Dropbox/Projects/remote_sensing/LC_classification_pytorch/models/EuroSAT-ResNet50.pth\n"
     ]
    }
   ],
   "source": [
    "# Create models directory\n",
    "os.makedirs(models_path, exist_ok=True)\n",
    "\n",
    "# 2. Create model save path\n",
    "model_save_path = os.path.join(models_path, model_name + \".pth\")\n",
    "\n",
    "# 3. Save the model state dict\n",
    "print(f\"Saving model to: {model_save_path}\")\n",
    "torch.save(obj=model.state_dict(), # only saving the state_dict() only saves the models learned parameters\n",
    "           f=model_save_path)"
   ]
  },
  {
   "cell_type": "code",
   "execution_count": 18,
   "metadata": {
    "colab": {
     "base_uri": "https://localhost:8080/"
    },
    "id": "i85wocPab4XB",
    "outputId": "f11a6e30-903e-4ff0-d65c-668f53bfb3ae"
   },
   "outputs": [],
   "source": [
    "# Save the loss data in a file\n",
    "with open(f\"{models_path}/loss_{model_name}.txt\", \"w\") as file:\n",
    "    file.write(f\"loss_i: {loss_i}\\n\")\n",
    "    file.write(f\"loss_val_i: {loss_val_i}\\n\")"
   ]
  },
  {
   "cell_type": "code",
   "execution_count": 19,
   "metadata": {
    "colab": {
     "base_uri": "https://localhost:8080/",
     "height": 245
    },
    "id": "NriEwjq23Mr-",
    "outputId": "405e0ea9-3c7c-44ff-d8e1-cf6112cd1b61"
   },
   "outputs": [
    {
     "data": {
      "image/png": "[encoded data removed]",
      "text/plain": [
       "<Figure size 504x360 with 1 Axes>"
      ]
     },
     "metadata": {},
     "output_type": "display_data"
    }
   ],
   "source": [
    "plt.figure(figsize=(7,5))\n",
    "# Use a dashed line for the training loss, and add markers\n",
    "plt.plot(loss_i, label=\"Train Loss\", linestyle='--', alpha=1.0)\n",
    "\n",
    "# Use a solid line for the validation loss\n",
    "plt.plot(loss_val_i, label=\"Validation Loss\", linestyle='-', alpha=1.0)\n",
    "plt.legend()\n",
    "plt.show()"
   ]
  },
  {
   "cell_type": "markdown",
   "metadata": {},
   "source": [
    "# Evaluate model"
   ]
  },
  {
   "cell_type": "code",
   "execution_count": 25,
   "metadata": {},
   "outputs": [],
   "source": [
    "# Call this function before evaluating your model to remove any wandb hook\n",
    "#remove_wandb_hooks(model)"
   ]
  },
  {
   "cell_type": "markdown",
   "metadata": {},
   "source": [
    "## Load trained model"
   ]
  },
  {
   "cell_type": "code",
   "execution_count": 13,
   "metadata": {
    "id": "CSPiXpIDQO1F"
   },
   "outputs": [
    {
     "name": "stdout",
     "output_type": "stream",
     "text": [
      "Loading /datasets2/Dropbox/Projects/remote_sensing/LC_classification_pytorch/models/ResNet50.pth\n"
     ]
    },
    {
     "data": {
      "text/plain": [
       "<All keys matched successfully>"
      ]
     },
     "execution_count": 13,
     "metadata": {},
     "output_type": "execute_result"
    }
   ],
   "source": [
    "# Load the state_dict of our saved model (this will update the new instance of our model with trained weights)\n",
    "model_save_path = models_path + \"/\" + model_name + \".pth\"\n",
    "print(f\"Loading {model_save_path}\")\n",
    "model.load_state_dict(torch.load(f = model_save_path))"
   ]
  },
  {
   "cell_type": "code",
   "execution_count": 14,
   "metadata": {
    "id": "WYO01xQG3O2J"
   },
   "outputs": [
    {
     "name": "stdout",
     "output_type": "stream",
     "text": [
      "                      precision    recall  f1-score   support\n",
      "\n",
      "          AnnualCrop      0.871     0.880     0.876       300\n",
      "              Forest      0.813     0.987     0.892       300\n",
      "HerbaceousVegetation      0.748     0.780     0.763       300\n",
      "             Highway      0.731     0.664     0.696       250\n",
      "          Industrial      0.941     0.892     0.916       250\n",
      "             Pasture      0.869     0.795     0.830       200\n",
      "       PermanentCrop      0.658     0.776     0.712       250\n",
      "         Residential      0.956     0.943     0.950       300\n",
      "               River      0.801     0.756     0.778       250\n",
      "             SeaLake      1.000     0.820     0.901       300\n",
      "\n",
      "            accuracy                          0.835      2700\n",
      "           macro avg      0.839     0.829     0.831      2700\n",
      "        weighted avg      0.842     0.835     0.836      2700\n",
      "\n"
     ]
    }
   ],
   "source": [
    "evaluate_test_set(model, test_loader, DEVICE, index_to_label=index_to_label)"
   ]
  },
  {
   "cell_type": "code",
   "execution_count": 21,
   "metadata": {
    "id": "HuiCqRZc3Qs_"
   },
   "outputs": [
    {
     "data": {
      "image/png": "[encoded data removed]",
      "text/plain": [
       "<Figure size 432x288 with 1 Axes>"
      ]
     },
     "metadata": {},
     "output_type": "display_data"
    }
   ],
   "source": [
    "precision_recall_analysis(model, test_loader, DEVICE,\n",
    "                          output_path=models_path,\n",
    "                          model_name=model_name,\n",
    "                          index_to_label=index_to_label)"
   ]
  },
  {
   "cell_type": "code",
   "execution_count": 22,
   "metadata": {},
   "outputs": [
    {
     "data": {
      "text/html": [
       "Waiting for W&B process to finish... <strong style=\"color:green\">(success).</strong>"
      ],
      "text/plain": [
       "<IPython.core.display.HTML object>"
      ]
     },
     "metadata": {},
     "output_type": "display_data"
    },
    {
     "data": {
      "text/html": [
       "<style>\n",
       "    table.wandb td:nth-child(1) { padding: 0 10px; text-align: left ; width: auto;} td:nth-child(2) {text-align: left ; width: 100%}\n",
       "    .wandb-row { display: flex; flex-direction: row; flex-wrap: wrap; justify-content: flex-start; width: 100% }\n",
       "    .wandb-col { display: flex; flex-direction: column; flex-basis: 100%; flex: 1; padding: 10px; }\n",
       "    </style>\n",
       "<div class=\"wandb-row\"><div class=\"wandb-col\"><h3>Run history:</h3><br/><table class=\"wandb\"><tr><td>epoch</td><td>▁▁▁▁▂▂▂▂▂▃▃▃▃▃▃▄▄▄▄▄▅▅▅▅▅▅▆▆▆▆▆▇▇▇▇▇▇███</td></tr><tr><td>step</td><td>▁▁▁▁▂▂▂▂▂▃▃▃▃▃▃▄▄▄▄▄▅▅▅▅▅▅▆▆▆▆▆▇▇▇▇▇▇███</td></tr><tr><td>train_loss</td><td>█▆▅▄▄▃▃▃▃▃▃▃▂▂▂▂▂▂▁▂▁▁▁▁▂▂▁▁▁▁▁▁▁▁▁▁▁▁▁▁</td></tr><tr><td>val_accuracy</td><td>▁▂▂▅▅▆▆▆▇▇▄▆▆▆▇█▇▇▇██▇▇▇██▇███▆▇█▇▇▇█▇█▇</td></tr><tr><td>val_loss</td><td>█▆▆▃▃▂▂▂▂▁▅▃▂▄▃▂▄▃▃▃▃▄▄▄▃▄▄▄▄▅▅▅▆▅▅▄▄▄▄▅</td></tr></table><br/></div><div class=\"wandb-col\"><h3>Run summary:</h3><br/><table class=\"wandb\"><tr><td>epoch</td><td>58</td></tr><tr><td>step</td><td>17448</td></tr><tr><td>train_loss</td><td>0.06644</td></tr><tr><td>val_accuracy</td><td>0.82722</td></tr><tr><td>val_loss</td><td>0.75621</td></tr></table><br/></div></div>"
      ],
      "text/plain": [
       "<IPython.core.display.HTML object>"
      ]
     },
     "metadata": {},
     "output_type": "display_data"
    },
    {
     "data": {
      "text/html": [
       "Synced <strong style=\"color:#cdcd00\">EuroSAT-ResNet50</strong>: <a href=\"https://wandb.ai/jrterven/EuroSAT/runs/1gzu9cyv\" target=\"_blank\">https://wandb.ai/jrterven/EuroSAT/runs/1gzu9cyv</a><br/>Synced 6 W&B file(s), 0 media file(s), 0 artifact file(s) and 0 other file(s)"
      ],
      "text/plain": [
       "<IPython.core.display.HTML object>"
      ]
     },
     "metadata": {},
     "output_type": "display_data"
    },
    {
     "data": {
      "text/html": [
       "Find logs at: <code>./wandb/run-20231029_181322-1gzu9cyv/logs</code>"
      ],
      "text/plain": [
       "<IPython.core.display.HTML object>"
      ]
     },
     "metadata": {},
     "output_type": "display_data"
    }
   ],
   "source": [
    "wandb.finish()"
   ]
  },
  {
   "cell_type": "markdown",
   "metadata": {},
   "source": [
    "## Load the precision/recall curve and plot it"
   ]
  },
  {
   "cell_type": "code",
   "execution_count": 23,
   "metadata": {},
   "outputs": [
    {
     "data": {
      "image/png": "[encoded data removed]",
      "text/plain": [
       "<Figure size 720x432 with 1 Axes>"
      ]
     },
     "metadata": {},
     "output_type": "display_data"
    }
   ],
   "source": [
    "filename = f\"{model_name}_precision_recall_values.json\"\n",
    "file_path = os.path.join(models_path, filename)\n",
    "\n",
    "with open(file_path, 'r') as file:\n",
    "    precision_recall_data = json.load(file)\n",
    "    \n",
    "all_classes_data = precision_recall_data['All Classes']\n",
    "\n",
    "# Extract precision and recall values\n",
    "precisions = all_classes_data.get('precision', [])\n",
    "recalls = all_classes_data.get('recall', [])\n",
    "\n",
    "# Create a DataFrame for plotting\n",
    "df = pd.DataFrame({\n",
    "    'Precision': precisions,\n",
    "    'Recall': recalls\n",
    "})\n",
    "\n",
    "# Plotting the precision/recall curve\n",
    "plt.figure(figsize=(10, 6))\n",
    "sns.lineplot(data=df, x='Recall', y='Precision')\n",
    "plt.title('Precision/Recall Curve')\n",
    "plt.xlabel('Recall')\n",
    "plt.ylabel('Precision')\n",
    "plt.grid(True)\n",
    "plt.show()"
   ]
  },
  {
   "cell_type": "markdown",
   "metadata": {},
   "source": [
    "## Clean-up"
   ]
  },
  {
   "cell_type": "code",
   "execution_count": 15,
   "metadata": {},
   "outputs": [
    {
     "data": {
      "text/plain": [
       "26125"
      ]
     },
     "execution_count": 15,
     "metadata": {},
     "output_type": "execute_result"
    }
   ],
   "source": [
    "import gc\n",
    "\n",
    "del model\n",
    "torch.cuda.empty_cache()\n",
    "gc.collect()\n"
   ]
  },
  {
   "cell_type": "markdown",
   "metadata": {},
   "source": [
    "# Now train the model with pre-trained weights"
   ]
  },
  {
   "cell_type": "code",
   "execution_count": 17,
   "metadata": {},
   "outputs": [
    {
     "data": {
      "text/plain": [
       "ResNet(\n",
       "  (conv1): Conv2d(3, 64, kernel_size=(7, 7), stride=(2, 2), padding=(3, 3), bias=False)\n",
       "  (bn1): BatchNorm2d(64, eps=1e-05, momentum=0.1, affine=True, track_running_stats=True)\n",
       "  (relu): ReLU(inplace=True)\n",
       "  (maxpool): MaxPool2d(kernel_size=3, stride=2, padding=1, dilation=1, ceil_mode=False)\n",
       "  (layer1): Sequential(\n",
       "    (0): Bottleneck(\n",
       "      (conv1): Conv2d(64, 64, kernel_size=(1, 1), stride=(1, 1), bias=False)\n",
       "      (bn1): BatchNorm2d(64, eps=1e-05, momentum=0.1, affine=True, track_running_stats=True)\n",
       "      (conv2): Conv2d(64, 64, kernel_size=(3, 3), stride=(1, 1), padding=(1, 1), bias=False)\n",
       "      (bn2): BatchNorm2d(64, eps=1e-05, momentum=0.1, affine=True, track_running_stats=True)\n",
       "      (conv3): Conv2d(64, 256, kernel_size=(1, 1), stride=(1, 1), bias=False)\n",
       "      (bn3): BatchNorm2d(256, eps=1e-05, momentum=0.1, affine=True, track_running_stats=True)\n",
       "      (relu): ReLU(inplace=True)\n",
       "      (downsample): Sequential(\n",
       "        (0): Conv2d(64, 256, kernel_size=(1, 1), stride=(1, 1), bias=False)\n",
       "        (1): BatchNorm2d(256, eps=1e-05, momentum=0.1, affine=True, track_running_stats=True)\n",
       "      )\n",
       "    )\n",
       "    (1): Bottleneck(\n",
       "      (conv1): Conv2d(256, 64, kernel_size=(1, 1), stride=(1, 1), bias=False)\n",
       "      (bn1): BatchNorm2d(64, eps=1e-05, momentum=0.1, affine=True, track_running_stats=True)\n",
       "      (conv2): Conv2d(64, 64, kernel_size=(3, 3), stride=(1, 1), padding=(1, 1), bias=False)\n",
       "      (bn2): BatchNorm2d(64, eps=1e-05, momentum=0.1, affine=True, track_running_stats=True)\n",
       "      (conv3): Conv2d(64, 256, kernel_size=(1, 1), stride=(1, 1), bias=False)\n",
       "      (bn3): BatchNorm2d(256, eps=1e-05, momentum=0.1, affine=True, track_running_stats=True)\n",
       "      (relu): ReLU(inplace=True)\n",
       "    )\n",
       "    (2): Bottleneck(\n",
       "      (conv1): Conv2d(256, 64, kernel_size=(1, 1), stride=(1, 1), bias=False)\n",
       "      (bn1): BatchNorm2d(64, eps=1e-05, momentum=0.1, affine=True, track_running_stats=True)\n",
       "      (conv2): Conv2d(64, 64, kernel_size=(3, 3), stride=(1, 1), padding=(1, 1), bias=False)\n",
       "      (bn2): BatchNorm2d(64, eps=1e-05, momentum=0.1, affine=True, track_running_stats=True)\n",
       "      (conv3): Conv2d(64, 256, kernel_size=(1, 1), stride=(1, 1), bias=False)\n",
       "      (bn3): BatchNorm2d(256, eps=1e-05, momentum=0.1, affine=True, track_running_stats=True)\n",
       "      (relu): ReLU(inplace=True)\n",
       "    )\n",
       "  )\n",
       "  (layer2): Sequential(\n",
       "    (0): Bottleneck(\n",
       "      (conv1): Conv2d(256, 128, kernel_size=(1, 1), stride=(1, 1), bias=False)\n",
       "      (bn1): BatchNorm2d(128, eps=1e-05, momentum=0.1, affine=True, track_running_stats=True)\n",
       "      (conv2): Conv2d(128, 128, kernel_size=(3, 3), stride=(2, 2), padding=(1, 1), bias=False)\n",
       "      (bn2): BatchNorm2d(128, eps=1e-05, momentum=0.1, affine=True, track_running_stats=True)\n",
       "      (conv3): Conv2d(128, 512, kernel_size=(1, 1), stride=(1, 1), bias=False)\n",
       "      (bn3): BatchNorm2d(512, eps=1e-05, momentum=0.1, affine=True, track_running_stats=True)\n",
       "      (relu): ReLU(inplace=True)\n",
       "      (downsample): Sequential(\n",
       "        (0): Conv2d(256, 512, kernel_size=(1, 1), stride=(2, 2), bias=False)\n",
       "        (1): BatchNorm2d(512, eps=1e-05, momentum=0.1, affine=True, track_running_stats=True)\n",
       "      )\n",
       "    )\n",
       "    (1): Bottleneck(\n",
       "      (conv1): Conv2d(512, 128, kernel_size=(1, 1), stride=(1, 1), bias=False)\n",
       "      (bn1): BatchNorm2d(128, eps=1e-05, momentum=0.1, affine=True, track_running_stats=True)\n",
       "      (conv2): Conv2d(128, 128, kernel_size=(3, 3), stride=(1, 1), padding=(1, 1), bias=False)\n",
       "      (bn2): BatchNorm2d(128, eps=1e-05, momentum=0.1, affine=True, track_running_stats=True)\n",
       "      (conv3): Conv2d(128, 512, kernel_size=(1, 1), stride=(1, 1), bias=False)\n",
       "      (bn3): BatchNorm2d(512, eps=1e-05, momentum=0.1, affine=True, track_running_stats=True)\n",
       "      (relu): ReLU(inplace=True)\n",
       "    )\n",
       "    (2): Bottleneck(\n",
       "      (conv1): Conv2d(512, 128, kernel_size=(1, 1), stride=(1, 1), bias=False)\n",
       "      (bn1): BatchNorm2d(128, eps=1e-05, momentum=0.1, affine=True, track_running_stats=True)\n",
       "      (conv2): Conv2d(128, 128, kernel_size=(3, 3), stride=(1, 1), padding=(1, 1), bias=False)\n",
       "      (bn2): BatchNorm2d(128, eps=1e-05, momentum=0.1, affine=True, track_running_stats=True)\n",
       "      (conv3): Conv2d(128, 512, kernel_size=(1, 1), stride=(1, 1), bias=False)\n",
       "      (bn3): BatchNorm2d(512, eps=1e-05, momentum=0.1, affine=True, track_running_stats=True)\n",
       "      (relu): ReLU(inplace=True)\n",
       "    )\n",
       "    (3): Bottleneck(\n",
       "      (conv1): Conv2d(512, 128, kernel_size=(1, 1), stride=(1, 1), bias=False)\n",
       "      (bn1): BatchNorm2d(128, eps=1e-05, momentum=0.1, affine=True, track_running_stats=True)\n",
       "      (conv2): Conv2d(128, 128, kernel_size=(3, 3), stride=(1, 1), padding=(1, 1), bias=False)\n",
       "      (bn2): BatchNorm2d(128, eps=1e-05, momentum=0.1, affine=True, track_running_stats=True)\n",
       "      (conv3): Conv2d(128, 512, kernel_size=(1, 1), stride=(1, 1), bias=False)\n",
       "      (bn3): BatchNorm2d(512, eps=1e-05, momentum=0.1, affine=True, track_running_stats=True)\n",
       "      (relu): ReLU(inplace=True)\n",
       "    )\n",
       "  )\n",
       "  (layer3): Sequential(\n",
       "    (0): Bottleneck(\n",
       "      (conv1): Conv2d(512, 256, kernel_size=(1, 1), stride=(1, 1), bias=False)\n",
       "      (bn1): BatchNorm2d(256, eps=1e-05, momentum=0.1, affine=True, track_running_stats=True)\n",
       "      (conv2): Conv2d(256, 256, kernel_size=(3, 3), stride=(2, 2), padding=(1, 1), bias=False)\n",
       "      (bn2): BatchNorm2d(256, eps=1e-05, momentum=0.1, affine=True, track_running_stats=True)\n",
       "      (conv3): Conv2d(256, 1024, kernel_size=(1, 1), stride=(1, 1), bias=False)\n",
       "      (bn3): BatchNorm2d(1024, eps=1e-05, momentum=0.1, affine=True, track_running_stats=True)\n",
       "      (relu): ReLU(inplace=True)\n",
       "      (downsample): Sequential(\n",
       "        (0): Conv2d(512, 1024, kernel_size=(1, 1), stride=(2, 2), bias=False)\n",
       "        (1): BatchNorm2d(1024, eps=1e-05, momentum=0.1, affine=True, track_running_stats=True)\n",
       "      )\n",
       "    )\n",
       "    (1): Bottleneck(\n",
       "      (conv1): Conv2d(1024, 256, kernel_size=(1, 1), stride=(1, 1), bias=False)\n",
       "      (bn1): BatchNorm2d(256, eps=1e-05, momentum=0.1, affine=True, track_running_stats=True)\n",
       "      (conv2): Conv2d(256, 256, kernel_size=(3, 3), stride=(1, 1), padding=(1, 1), bias=False)\n",
       "      (bn2): BatchNorm2d(256, eps=1e-05, momentum=0.1, affine=True, track_running_stats=True)\n",
       "      (conv3): Conv2d(256, 1024, kernel_size=(1, 1), stride=(1, 1), bias=False)\n",
       "      (bn3): BatchNorm2d(1024, eps=1e-05, momentum=0.1, affine=True, track_running_stats=True)\n",
       "      (relu): ReLU(inplace=True)\n",
       "    )\n",
       "    (2): Bottleneck(\n",
       "      (conv1): Conv2d(1024, 256, kernel_size=(1, 1), stride=(1, 1), bias=False)\n",
       "      (bn1): BatchNorm2d(256, eps=1e-05, momentum=0.1, affine=True, track_running_stats=True)\n",
       "      (conv2): Conv2d(256, 256, kernel_size=(3, 3), stride=(1, 1), padding=(1, 1), bias=False)\n",
       "      (bn2): BatchNorm2d(256, eps=1e-05, momentum=0.1, affine=True, track_running_stats=True)\n",
       "      (conv3): Conv2d(256, 1024, kernel_size=(1, 1), stride=(1, 1), bias=False)\n",
       "      (bn3): BatchNorm2d(1024, eps=1e-05, momentum=0.1, affine=True, track_running_stats=True)\n",
       "      (relu): ReLU(inplace=True)\n",
       "    )\n",
       "    (3): Bottleneck(\n",
       "      (conv1): Conv2d(1024, 256, kernel_size=(1, 1), stride=(1, 1), bias=False)\n",
       "      (bn1): BatchNorm2d(256, eps=1e-05, momentum=0.1, affine=True, track_running_stats=True)\n",
       "      (conv2): Conv2d(256, 256, kernel_size=(3, 3), stride=(1, 1), padding=(1, 1), bias=False)\n",
       "      (bn2): BatchNorm2d(256, eps=1e-05, momentum=0.1, affine=True, track_running_stats=True)\n",
       "      (conv3): Conv2d(256, 1024, kernel_size=(1, 1), stride=(1, 1), bias=False)\n",
       "      (bn3): BatchNorm2d(1024, eps=1e-05, momentum=0.1, affine=True, track_running_stats=True)\n",
       "      (relu): ReLU(inplace=True)\n",
       "    )\n",
       "    (4): Bottleneck(\n",
       "      (conv1): Conv2d(1024, 256, kernel_size=(1, 1), stride=(1, 1), bias=False)\n",
       "      (bn1): BatchNorm2d(256, eps=1e-05, momentum=0.1, affine=True, track_running_stats=True)\n",
       "      (conv2): Conv2d(256, 256, kernel_size=(3, 3), stride=(1, 1), padding=(1, 1), bias=False)\n",
       "      (bn2): BatchNorm2d(256, eps=1e-05, momentum=0.1, affine=True, track_running_stats=True)\n",
       "      (conv3): Conv2d(256, 1024, kernel_size=(1, 1), stride=(1, 1), bias=False)\n",
       "      (bn3): BatchNorm2d(1024, eps=1e-05, momentum=0.1, affine=True, track_running_stats=True)\n",
       "      (relu): ReLU(inplace=True)\n",
       "    )\n",
       "    (5): Bottleneck(\n",
       "      (conv1): Conv2d(1024, 256, kernel_size=(1, 1), stride=(1, 1), bias=False)\n",
       "      (bn1): BatchNorm2d(256, eps=1e-05, momentum=0.1, affine=True, track_running_stats=True)\n",
       "      (conv2): Conv2d(256, 256, kernel_size=(3, 3), stride=(1, 1), padding=(1, 1), bias=False)\n",
       "      (bn2): BatchNorm2d(256, eps=1e-05, momentum=0.1, affine=True, track_running_stats=True)\n",
       "      (conv3): Conv2d(256, 1024, kernel_size=(1, 1), stride=(1, 1), bias=False)\n",
       "      (bn3): BatchNorm2d(1024, eps=1e-05, momentum=0.1, affine=True, track_running_stats=True)\n",
       "      (relu): ReLU(inplace=True)\n",
       "    )\n",
       "  )\n",
       "  (layer4): Sequential(\n",
       "    (0): Bottleneck(\n",
       "      (conv1): Conv2d(1024, 512, kernel_size=(1, 1), stride=(1, 1), bias=False)\n",
       "      (bn1): BatchNorm2d(512, eps=1e-05, momentum=0.1, affine=True, track_running_stats=True)\n",
       "      (conv2): Conv2d(512, 512, kernel_size=(3, 3), stride=(2, 2), padding=(1, 1), bias=False)\n",
       "      (bn2): BatchNorm2d(512, eps=1e-05, momentum=0.1, affine=True, track_running_stats=True)\n",
       "      (conv3): Conv2d(512, 2048, kernel_size=(1, 1), stride=(1, 1), bias=False)\n",
       "      (bn3): BatchNorm2d(2048, eps=1e-05, momentum=0.1, affine=True, track_running_stats=True)\n",
       "      (relu): ReLU(inplace=True)\n",
       "      (downsample): Sequential(\n",
       "        (0): Conv2d(1024, 2048, kernel_size=(1, 1), stride=(2, 2), bias=False)\n",
       "        (1): BatchNorm2d(2048, eps=1e-05, momentum=0.1, affine=True, track_running_stats=True)\n",
       "      )\n",
       "    )\n",
       "    (1): Bottleneck(\n",
       "      (conv1): Conv2d(2048, 512, kernel_size=(1, 1), stride=(1, 1), bias=False)\n",
       "      (bn1): BatchNorm2d(512, eps=1e-05, momentum=0.1, affine=True, track_running_stats=True)\n",
       "      (conv2): Conv2d(512, 512, kernel_size=(3, 3), stride=(1, 1), padding=(1, 1), bias=False)\n",
       "      (bn2): BatchNorm2d(512, eps=1e-05, momentum=0.1, affine=True, track_running_stats=True)\n",
       "      (conv3): Conv2d(512, 2048, kernel_size=(1, 1), stride=(1, 1), bias=False)\n",
       "      (bn3): BatchNorm2d(2048, eps=1e-05, momentum=0.1, affine=True, track_running_stats=True)\n",
       "      (relu): ReLU(inplace=True)\n",
       "    )\n",
       "    (2): Bottleneck(\n",
       "      (conv1): Conv2d(2048, 512, kernel_size=(1, 1), stride=(1, 1), bias=False)\n",
       "      (bn1): BatchNorm2d(512, eps=1e-05, momentum=0.1, affine=True, track_running_stats=True)\n",
       "      (conv2): Conv2d(512, 512, kernel_size=(3, 3), stride=(1, 1), padding=(1, 1), bias=False)\n",
       "      (bn2): BatchNorm2d(512, eps=1e-05, momentum=0.1, affine=True, track_running_stats=True)\n",
       "      (conv3): Conv2d(512, 2048, kernel_size=(1, 1), stride=(1, 1), bias=False)\n",
       "      (bn3): BatchNorm2d(2048, eps=1e-05, momentum=0.1, affine=True, track_running_stats=True)\n",
       "      (relu): ReLU(inplace=True)\n",
       "    )\n",
       "  )\n",
       "  (avgpool): AdaptiveAvgPool2d(output_size=(1, 1))\n",
       "  (fc): Linear(in_features=2048, out_features=10, bias=True)\n",
       ")"
      ]
     },
     "execution_count": 17,
     "metadata": {},
     "output_type": "execute_result"
    }
   ],
   "source": [
    "# Use pretrained model\n",
    "model2=resnet50(weights=ResNet50_Weights.IMAGENET1K_V1)\n",
    "\n",
    "# Replace the model head with the number of classes\n",
    "num_classes = 10\n",
    "model2.fc = nn.Linear(2048, num_classes) \n",
    "model2.to(DEVICE)"
   ]
  },
  {
   "cell_type": "markdown",
   "metadata": {},
   "source": [
    "## Train"
   ]
  },
  {
   "cell_type": "code",
   "execution_count": 20,
   "metadata": {},
   "outputs": [],
   "source": [
    "model_name = \"ResNet50-Pretrained\""
   ]
  },
  {
   "cell_type": "code",
   "execution_count": 26,
   "metadata": {},
   "outputs": [
    {
     "data": {
      "text/html": [
       "wandb version 0.15.12 is available!  To upgrade, please run:\n",
       " $ pip install wandb --upgrade"
      ],
      "text/plain": [
       "<IPython.core.display.HTML object>"
      ]
     },
     "metadata": {},
     "output_type": "display_data"
    },
    {
     "data": {
      "text/html": [
       "Tracking run with wandb version 0.13.5"
      ],
      "text/plain": [
       "<IPython.core.display.HTML object>"
      ]
     },
     "metadata": {},
     "output_type": "display_data"
    },
    {
     "data": {
      "text/html": [
       "Run data is saved locally in <code>/datasets2/Dropbox/Projects/remote_sensing/LC_classification_pytorch/wandb/run-20231029_192654-36xvd84i</code>"
      ],
      "text/plain": [
       "<IPython.core.display.HTML object>"
      ]
     },
     "metadata": {},
     "output_type": "display_data"
    },
    {
     "data": {
      "text/html": [
       "Syncing run <strong><a href=\"https://wandb.ai/jrterven/EuroSAT/runs/36xvd84i\" target=\"_blank\">EuroSAT-ResNet-Pretrained</a></strong> to <a href=\"https://wandb.ai/jrterven/EuroSAT\" target=\"_blank\">Weights & Biases</a> (<a href=\"https://wandb.me/run\" target=\"_blank\">docs</a>)<br/>"
      ],
      "text/plain": [
       "<IPython.core.display.HTML object>"
      ]
     },
     "metadata": {},
     "output_type": "display_data"
    },
    {
     "name": "stdout",
     "output_type": "stream",
     "text": [
      "Starting training with early stopping patience of 10\n",
      "Each epoch has 296 steps.\n",
      "\n",
      "Epoch: 1...\n",
      "Step: 21/296 Loss: 1.3121710434556006\n",
      "Step: 41/296 Loss: 0.3828035183250904\n",
      "Step: 61/296 Loss: 0.26007808484137057\n",
      "Step: 81/296 Loss: 0.25632433257997034\n",
      "Step: 101/296 Loss: 0.18500524275004865\n",
      "Step: 121/296 Loss: 0.21168725900352\n",
      "Step: 141/296 Loss: 0.20327800158411263\n",
      "Step: 161/296 Loss: 0.20402067191898823\n",
      "Step: 181/296 Loss: 0.1872485311701894\n",
      "Step: 201/296 Loss: 0.15828113928437232\n",
      "Step: 221/296 Loss: 0.1594890547916293\n",
      "Step: 241/296 Loss: 0.16458846740424632\n",
      "Step: 261/296 Loss: 0.16222392283380033\n",
      "Step: 281/296 Loss: 0.1631573020480573\n",
      "Validation Loss: 0.1076 Accuracy: 0.9657\n",
      "Epoch duration: 111.47s\n",
      "\n",
      "Epoch: 2...\n",
      "Step: 21/296 Loss: 0.0972707647830248\n",
      "Step: 41/296 Loss: 0.20747339874505996\n",
      "Step: 61/296 Loss: 0.1777623461559415\n",
      "Step: 81/296 Loss: 0.21529540233314037\n",
      "Step: 101/296 Loss: 0.18734726291149856\n",
      "Step: 121/296 Loss: 0.1544705169275403\n",
      "Step: 141/296 Loss: 0.2230492800474167\n",
      "Step: 161/296 Loss: 0.10998178692534566\n",
      "Step: 181/296 Loss: 0.1114282206632197\n",
      "Step: 201/296 Loss: 0.1635265113785863\n",
      "Step: 221/296 Loss: 0.12111699990928174\n",
      "Step: 241/296 Loss: 0.09033387382514775\n",
      "Step: 261/296 Loss: 0.10000597489997745\n",
      "Step: 281/296 Loss: 0.11422666804865003\n",
      "Validation Loss: 0.1015 Accuracy: 0.9683\n",
      "Epoch duration: 68.74s\n",
      "\n",
      "Epoch: 3...\n",
      "Step: 21/296 Loss: 0.0753800413571298\n",
      "Step: 41/296 Loss: 0.08110306321177632\n",
      "Step: 61/296 Loss: 0.07742550196126104\n",
      "Step: 81/296 Loss: 0.08453581132926047\n",
      "Step: 101/296 Loss: 0.05236547379754484\n",
      "Step: 121/296 Loss: 0.0840240565361455\n",
      "Step: 141/296 Loss: 0.09543354944325984\n",
      "Step: 161/296 Loss: 0.11042020423337817\n",
      "Step: 181/296 Loss: 0.08770631928928196\n",
      "Step: 201/296 Loss: 0.09573774156160653\n",
      "Step: 221/296 Loss: 0.07388730309903621\n",
      "Step: 241/296 Loss: 0.05101069095544517\n",
      "Step: 261/296 Loss: 0.06665458197239786\n",
      "Step: 281/296 Loss: 0.050095900986343624\n",
      "Validation Loss: 0.2099 Accuracy: 0.9391\n",
      "Epoch duration: 69.10s\n",
      "\n",
      "Epoch: 4...\n",
      "Step: 21/296 Loss: 0.08231015431229025\n",
      "Step: 41/296 Loss: 0.04537413029465824\n",
      "Step: 61/296 Loss: 0.052052370528690516\n",
      "Step: 81/296 Loss: 0.07240606204140931\n",
      "Step: 101/296 Loss: 0.06014697500504553\n",
      "Step: 121/296 Loss: 0.0438191752997227\n",
      "Step: 141/296 Loss: 0.04626701567613054\n",
      "Step: 161/296 Loss: 0.042258462752215564\n",
      "Step: 181/296 Loss: 0.07106063973624259\n",
      "Step: 201/296 Loss: 0.06742977825924754\n",
      "Step: 221/296 Loss: 0.05801580457482487\n",
      "Step: 241/296 Loss: 0.07564685000106693\n",
      "Step: 261/296 Loss: 0.06900985683314502\n",
      "Step: 281/296 Loss: 0.05866836872883141\n",
      "Validation Loss: 0.2093 Accuracy: 0.9467\n",
      "Epoch duration: 69.11s\n",
      "\n",
      "Epoch: 5...\n",
      "Step: 21/296 Loss: 0.06775698296842166\n",
      "Step: 41/296 Loss: 0.028735153848538177\n",
      "Step: 61/296 Loss: 0.0333902099984698\n",
      "Step: 81/296 Loss: 0.03441113106673584\n",
      "Step: 101/296 Loss: 0.062030211952514944\n",
      "Step: 121/296 Loss: 0.0852306020911783\n",
      "Step: 141/296 Loss: 0.05340826425235719\n",
      "Step: 161/296 Loss: 0.044863969762809576\n",
      "Step: 181/296 Loss: 0.04560986473225057\n",
      "Step: 201/296 Loss: 0.04917959086596966\n",
      "Step: 221/296 Loss: 0.07617671876214445\n",
      "Step: 241/296 Loss: 0.050289425137452784\n",
      "Step: 261/296 Loss: 0.03522442209068686\n",
      "Step: 281/296 Loss: 0.08284005123423413\n",
      "Validation Loss: 0.1699 Accuracy: 0.9498\n",
      "Epoch duration: 69.28s\n",
      "\n",
      "Epoch: 6...\n",
      "Step: 21/296 Loss: 0.07890756072010845\n",
      "Step: 41/296 Loss: 0.04523251326754689\n",
      "Step: 61/296 Loss: 0.060304307658225295\n",
      "Step: 81/296 Loss: 0.030391373741440474\n",
      "Step: 101/296 Loss: 0.06005965848453343\n",
      "Step: 121/296 Loss: 0.0685503251850605\n",
      "Step: 141/296 Loss: 0.06355585074052214\n",
      "Step: 161/296 Loss: 0.06723403856158257\n",
      "Step: 181/296 Loss: 0.0715919781010598\n",
      "Step: 201/296 Loss: 0.03925628864672035\n",
      "Step: 221/296 Loss: 0.11021186648868024\n",
      "Step: 241/296 Loss: 0.05392218390479684\n",
      "Step: 261/296 Loss: 0.07164826686494052\n",
      "Step: 281/296 Loss: 0.05210244469344616\n",
      "Validation Loss: 0.1322 Accuracy: 0.9639\n",
      "Epoch duration: 69.23s\n",
      "\n",
      "Epoch: 7...\n",
      "Step: 21/296 Loss: 0.04827280848985538\n",
      "Step: 41/296 Loss: 0.03652331163175404\n",
      "Step: 61/296 Loss: 0.040962392871733755\n",
      "Step: 81/296 Loss: 0.035348119778791445\n",
      "Step: 101/296 Loss: 0.03707659994252026\n",
      "Step: 121/296 Loss: 0.030752054281765594\n",
      "Step: 141/296 Loss: 0.0699120038698311\n",
      "Step: 161/296 Loss: 0.10161216789856553\n",
      "Step: 181/296 Loss: 0.05299275448778644\n",
      "Step: 201/296 Loss: 0.07471810947172344\n",
      "Step: 221/296 Loss: 0.07241444620885887\n",
      "Step: 241/296 Loss: 0.0644415330607444\n",
      "Step: 261/296 Loss: 0.018466739251744003\n",
      "Step: 281/296 Loss: 0.02123160976334475\n",
      "Validation Loss: 0.1782 Accuracy: 0.9572\n",
      "Epoch duration: 68.77s\n",
      "\n",
      "Epoch: 8...\n",
      "Step: 21/296 Loss: 0.052797062392346564\n",
      "Step: 41/296 Loss: 0.04228216931805946\n",
      "Step: 61/296 Loss: 0.059227537084370854\n",
      "Step: 81/296 Loss: 0.048720835393760355\n",
      "Step: 101/296 Loss: 0.0317368044750765\n",
      "Step: 121/296 Loss: 0.058052385842893274\n",
      "Step: 141/296 Loss: 0.03930377771612257\n",
      "Step: 161/296 Loss: 0.021786569675896317\n",
      "Step: 181/296 Loss: 0.01796875153086148\n",
      "Step: 201/296 Loss: 0.03910757636767812\n",
      "Step: 221/296 Loss: 0.03574000708758831\n",
      "Step: 241/296 Loss: 0.018793844716856255\n",
      "Step: 261/296 Loss: 0.013192816708760801\n",
      "Step: 281/296 Loss: 0.03671258556423709\n",
      "Validation Loss: 0.1369 Accuracy: 0.9663\n",
      "Epoch duration: 69.57s\n",
      "\n",
      "Epoch: 9...\n",
      "Step: 21/296 Loss: 0.023296874212974217\n",
      "Step: 41/296 Loss: 0.040584372507873924\n",
      "Step: 61/296 Loss: 0.023735349328489974\n",
      "Step: 81/296 Loss: 0.03375263844209257\n",
      "Step: 101/296 Loss: 0.03915497115231119\n",
      "Step: 121/296 Loss: 0.03233575492631644\n",
      "Step: 141/296 Loss: 0.02680336651101243\n",
      "Step: 161/296 Loss: 0.04283453175157774\n",
      "Step: 181/296 Loss: 0.06811610637232661\n",
      "Step: 201/296 Loss: 0.052081356290727854\n",
      "Step: 221/296 Loss: 0.045564520196057855\n",
      "Step: 241/296 Loss: 0.013258270354708657\n",
      "Step: 261/296 Loss: 0.015861680905800313\n",
      "Step: 281/296 Loss: 0.025936373340664433\n",
      "Validation Loss: 0.1351 Accuracy: 0.9650\n",
      "Epoch duration: 69.78s\n",
      "\n",
      "Epoch: 10...\n",
      "Step: 21/296 Loss: 0.04014324087329442\n",
      "Step: 41/296 Loss: 0.037867612976697274\n",
      "Step: 61/296 Loss: 0.04630962178925983\n",
      "Step: 81/296 Loss: 0.07233805115683936\n",
      "Step: 101/296 Loss: 0.03483996478607878\n",
      "Step: 121/296 Loss: 0.03961378161329776\n",
      "Step: 141/296 Loss: 0.020836866181343793\n",
      "Step: 161/296 Loss: 0.019305617635836825\n",
      "Step: 181/296 Loss: 0.014838894139393233\n",
      "Step: 201/296 Loss: 0.044173780386336146\n",
      "Step: 221/296 Loss: 0.029665983037557454\n",
      "Step: 241/296 Loss: 0.039783449517562984\n",
      "Step: 261/296 Loss: 0.033930753174354324\n",
      "Step: 281/296 Loss: 0.013003871246473864\n",
      "Validation Loss: 0.1385 Accuracy: 0.9674\n",
      "Epoch duration: 69.49s\n",
      "\n",
      "Epoch: 11...\n",
      "Step: 21/296 Loss: 0.015331497765146196\n",
      "Step: 41/296 Loss: 0.02329776531259995\n",
      "Step: 61/296 Loss: 0.03933628428494558\n",
      "Step: 81/296 Loss: 0.027408030815422535\n",
      "Step: 101/296 Loss: 0.021319692542601843\n",
      "Step: 121/296 Loss: 0.028551350030465984\n",
      "Step: 141/296 Loss: 0.015865495114121587\n",
      "Step: 161/296 Loss: 0.0324624548011343\n",
      "Step: 181/296 Loss: 0.04223450391436927\n",
      "Step: 201/296 Loss: 0.032027272961568085\n",
      "Step: 221/296 Loss: 0.027437599742552266\n",
      "Step: 241/296 Loss: 0.01701496481837239\n",
      "Step: 261/296 Loss: 0.056617476418614386\n",
      "Step: 281/296 Loss: 0.06587524638744072\n",
      "Validation Loss: 0.1413 Accuracy: 0.9626\n",
      "Epoch duration: 69.00s\n",
      "\n",
      "Epoch: 12...\n",
      "Step: 21/296 Loss: 0.020151110863662326\n",
      "Step: 41/296 Loss: 0.02448674972401932\n",
      "Step: 61/296 Loss: 0.050385955790989104\n",
      "Step: 81/296 Loss: 0.052299384912475946\n",
      "Step: 101/296 Loss: 0.032648542104288934\n",
      "Step: 121/296 Loss: 0.01887809454347007\n",
      "Step: 141/296 Loss: 0.038791079557267946\n",
      "Step: 161/296 Loss: 0.01909241606190335\n",
      "Step: 181/296 Loss: 0.009027670350042172\n",
      "Step: 201/296 Loss: 0.040685429784934966\n",
      "Step: 221/296 Loss: 0.027464659162797035\n",
      "Step: 241/296 Loss: 0.03526902780286036\n",
      "Step: 261/296 Loss: 0.015116282542294357\n",
      "Step: 281/296 Loss: 0.0800622324924916\n",
      "Validation Loss: 0.2078 Accuracy: 0.9417\n",
      "Epoch duration: 69.85s\n",
      "\n",
      "Early stopping invoked in epoch 12\n"
     ]
    }
   ],
   "source": [
    "epochs = 200\n",
    "lr = 0.0001\n",
    "patience = 10\n",
    "\n",
    "run = wandb.init(\n",
    "    # Set the project where this run will be logged\n",
    "    project=project_name,\n",
    "    name=model_name,\n",
    "    notes=\"ResNet pre-trained on ImageNet\",\n",
    "    # Track hyperparameters and run metadata\n",
    "    config={\n",
    "        \"learning_rate\": lr,\n",
    "        \"epochs\": epochs,\n",
    "        \"batch_size\": train_batch,\n",
    "        \"patience\": patience\n",
    "    })\n",
    "\n",
    "loss_i, loss_val_i = train_model(model=model2, epochs=epochs, \n",
    "                                 train_loader=train_loader,\n",
    "                                 valid_loader=valid_loader,\n",
    "                                 lr=lr, patience=patience, device=DEVICE)"
   ]
  },
  {
   "cell_type": "markdown",
   "metadata": {},
   "source": [
    "## Save model"
   ]
  },
  {
   "cell_type": "code",
   "execution_count": 27,
   "metadata": {
    "colab": {
     "base_uri": "https://localhost:8080/"
    },
    "id": "wQSjoVBQbaky",
    "outputId": "7086a583-b902-4681-93c8-0155073490aa"
   },
   "outputs": [
    {
     "name": "stdout",
     "output_type": "stream",
     "text": [
      "Saving model to: /datasets2/Dropbox/Projects/remote_sensing/LC_classification_pytorch/models/EuroSAT-ResNet-Pretrained.pth\n"
     ]
    }
   ],
   "source": [
    "# Create models directory\n",
    "os.makedirs(models_path, exist_ok=True)\n",
    "\n",
    "# 2. Create model save path\n",
    "model_save_path = os.path.join(models_path, model_name + \".pth\")\n",
    "\n",
    "# 3. Save the model state dict\n",
    "print(f\"Saving model to: {model_save_path}\")\n",
    "torch.save(obj=model2.state_dict(), # only saving the state_dict() only saves the models learned parameters\n",
    "           f=model_save_path)"
   ]
  },
  {
   "cell_type": "code",
   "execution_count": 28,
   "metadata": {
    "colab": {
     "base_uri": "https://localhost:8080/"
    },
    "id": "i85wocPab4XB",
    "outputId": "f11a6e30-903e-4ff0-d65c-668f53bfb3ae"
   },
   "outputs": [],
   "source": [
    "# Save the loss data in a file\n",
    "with open(f\"{models_path}/loss_{model_name}.txt\", \"w\") as archivo:\n",
    "    archivo.write(f\"loss_i: {loss_i}\\n\")\n",
    "    archivo.write(f\"loss_val_i: {loss_val_i}\\n\")"
   ]
  },
  {
   "cell_type": "code",
   "execution_count": 29,
   "metadata": {
    "colab": {
     "base_uri": "https://localhost:8080/",
     "height": 245
    },
    "id": "NriEwjq23Mr-",
    "outputId": "405e0ea9-3c7c-44ff-d8e1-cf6112cd1b61"
   },
   "outputs": [
    {
     "data": {
      "image/png": "[encoded data removed]",
      "text/plain": [
       "<Figure size 504x360 with 1 Axes>"
      ]
     },
     "metadata": {},
     "output_type": "display_data"
    }
   ],
   "source": [
    "plt.figure(figsize=(7,5))\n",
    "# Use a dashed line for the training loss, and add markers\n",
    "plt.plot(loss_i, label=\"Train Loss\", linestyle='--', alpha=1.0)\n",
    "\n",
    "# Use a solid line for the validation loss\n",
    "plt.plot(loss_val_i, label=\"Validation Loss\", linestyle='-', alpha=1.0)\n",
    "plt.legend()\n",
    "plt.show()"
   ]
  },
  {
   "cell_type": "markdown",
   "metadata": {},
   "source": [
    "# Evaluate model"
   ]
  },
  {
   "cell_type": "code",
   "execution_count": 25,
   "metadata": {},
   "outputs": [],
   "source": [
    "# Call this function before evaluating your model to remove any wandb hook\n",
    "#remove_wandb_hooks(model)"
   ]
  },
  {
   "cell_type": "markdown",
   "metadata": {},
   "source": [
    "## Load trained model"
   ]
  },
  {
   "cell_type": "code",
   "execution_count": 21,
   "metadata": {
    "id": "CSPiXpIDQO1F"
   },
   "outputs": [
    {
     "name": "stdout",
     "output_type": "stream",
     "text": [
      "Loading /datasets2/Dropbox/Projects/remote_sensing/LC_classification_pytorch/models/ResNet50-Pretrained.pth\n"
     ]
    },
    {
     "data": {
      "text/plain": [
       "<All keys matched successfully>"
      ]
     },
     "execution_count": 21,
     "metadata": {},
     "output_type": "execute_result"
    }
   ],
   "source": [
    "# Load the state_dict of our saved model (this will update the new instance of our model with trained weights)\n",
    "model_save_path = models_path + \"/\" + model_name + \".pth\"\n",
    "print(f\"Loading {model_save_path}\")\n",
    "model2.load_state_dict(torch.load(f = model_save_path))"
   ]
  },
  {
   "cell_type": "code",
   "execution_count": 22,
   "metadata": {
    "id": "WYO01xQG3O2J"
   },
   "outputs": [
    {
     "name": "stdout",
     "output_type": "stream",
     "text": [
      "                      precision    recall  f1-score   support\n",
      "\n",
      "          AnnualCrop      0.927     0.973     0.950       300\n",
      "              Forest      0.931     0.993     0.961       300\n",
      "HerbaceousVegetation      0.979     0.773     0.864       300\n",
      "             Highway      0.953     0.980     0.966       250\n",
      "          Industrial      1.000     0.968     0.984       250\n",
      "             Pasture      0.988     0.830     0.902       200\n",
      "       PermanentCrop      0.799     0.968     0.875       250\n",
      "         Residential      0.987     0.997     0.992       300\n",
      "               River      0.942     0.968     0.955       250\n",
      "             SeaLake      1.000     0.993     0.997       300\n",
      "\n",
      "            accuracy                          0.947      2700\n",
      "           macro avg      0.951     0.944     0.945      2700\n",
      "        weighted avg      0.951     0.947     0.946      2700\n",
      "\n"
     ]
    }
   ],
   "source": [
    "evaluate_test_set(model2, test_loader, DEVICE, index_to_label=index_to_label)"
   ]
  },
  {
   "cell_type": "code",
   "execution_count": 31,
   "metadata": {
    "id": "HuiCqRZc3Qs_"
   },
   "outputs": [
    {
     "data": {
      "image/png": "[encoded data removed]",
      "text/plain": [
       "<Figure size 432x288 with 1 Axes>"
      ]
     },
     "metadata": {},
     "output_type": "display_data"
    }
   ],
   "source": [
    "precision_recall_analysis(model2, test_loader, DEVICE,\n",
    "                          output_path=models_path,\n",
    "                          model_name=model_name,\n",
    "                          index_to_label=index_to_label)"
   ]
  },
  {
   "cell_type": "code",
   "execution_count": 32,
   "metadata": {},
   "outputs": [
    {
     "data": {
      "text/html": [
       "Waiting for W&B process to finish... <strong style=\"color:green\">(success).</strong>"
      ],
      "text/plain": [
       "<IPython.core.display.HTML object>"
      ]
     },
     "metadata": {},
     "output_type": "display_data"
    },
    {
     "data": {
      "text/html": [
       "<style>\n",
       "    table.wandb td:nth-child(1) { padding: 0 10px; text-align: left ; width: auto;} td:nth-child(2) {text-align: left ; width: 100%}\n",
       "    .wandb-row { display: flex; flex-direction: row; flex-wrap: wrap; justify-content: flex-start; width: 100% }\n",
       "    .wandb-col { display: flex; flex-direction: column; flex-basis: 100%; flex: 1; padding: 10px; }\n",
       "    </style>\n",
       "<div class=\"wandb-row\"><div class=\"wandb-col\"><h3>Run history:</h3><br/><table class=\"wandb\"><tr><td>epoch</td><td>▁▂▂▃▄▄▅▅▆▇▇█</td></tr><tr><td>step</td><td>▁▁▁▁▂▂▂▂▂▃▃▃▃▃▃▄▄▄▄▄▅▅▅▅▅▅▆▆▆▆▆▆▇▇▇▇▇███</td></tr><tr><td>train_loss</td><td>█▅▄▄▅▃▂▂▃▂▂▂▂▂▁▂▂▁▂▂▁▁▂▁▂▁▁▁▂▁▁▁▂▁▁▁▂▂▁▂</td></tr><tr><td>val_accuracy</td><td>▇█▁▃▄▇▅█▇█▇▂</td></tr><tr><td>val_loss</td><td>▁▁██▅▃▆▃▃▃▄█</td></tr></table><br/></div><div class=\"wandb-col\"><h3>Run summary:</h3><br/><table class=\"wandb\"><tr><td>epoch</td><td>11</td></tr><tr><td>step</td><td>3536</td></tr><tr><td>train_loss</td><td>0.08006</td></tr><tr><td>val_accuracy</td><td>0.94167</td></tr><tr><td>val_loss</td><td>0.20783</td></tr></table><br/></div></div>"
      ],
      "text/plain": [
       "<IPython.core.display.HTML object>"
      ]
     },
     "metadata": {},
     "output_type": "display_data"
    },
    {
     "data": {
      "text/html": [
       "Synced <strong style=\"color:#cdcd00\">EuroSAT-ResNet-Pretrained</strong>: <a href=\"https://wandb.ai/jrterven/EuroSAT/runs/36xvd84i\" target=\"_blank\">https://wandb.ai/jrterven/EuroSAT/runs/36xvd84i</a><br/>Synced 6 W&B file(s), 0 media file(s), 0 artifact file(s) and 0 other file(s)"
      ],
      "text/plain": [
       "<IPython.core.display.HTML object>"
      ]
     },
     "metadata": {},
     "output_type": "display_data"
    },
    {
     "data": {
      "text/html": [
       "Find logs at: <code>./wandb/run-20231029_192654-36xvd84i/logs</code>"
      ],
      "text/plain": [
       "<IPython.core.display.HTML object>"
      ]
     },
     "metadata": {},
     "output_type": "display_data"
    }
   ],
   "source": [
    "wandb.finish()"
   ]
  },
  {
   "cell_type": "code",
   "execution_count": 23,
   "metadata": {},
   "outputs": [
    {
     "data": {
      "text/plain": [
       "821"
      ]
     },
     "execution_count": 23,
     "metadata": {},
     "output_type": "execute_result"
    }
   ],
   "source": [
    "del model2\n",
    "torch.cuda.empty_cache()\n",
    "gc.collect()"
   ]
  },
  {
   "cell_type": "code",
   "execution_count": null,
   "metadata": {},
   "outputs": [],
   "source": []
  }
 ],
 "metadata": {
  "accelerator": "GPU",
  "colab": {
   "gpuType": "A100",
   "machine_shape": "hm",
   "provenance": []
  },
  "kernelspec": {
   "display_name": "pytorch2",
   "language": "python",
   "name": "pytorch2"
  },
  "language_info": {
   "codemirror_mode": {
    "name": "ipython",
    "version": 3
   },
   "file_extension": ".py",
   "mimetype": "text/x-python",
   "name": "python",
   "nbconvert_exporter": "python",
   "pygments_lexer": "ipython3",
   "version": "3.8.13"
  }
 },
 "nbformat": 4,
 "nbformat_minor": 1
}
